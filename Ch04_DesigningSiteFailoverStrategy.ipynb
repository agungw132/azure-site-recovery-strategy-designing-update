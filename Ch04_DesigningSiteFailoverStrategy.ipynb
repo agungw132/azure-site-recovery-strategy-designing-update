{
 "cells": [
  {
   "cell_type": "markdown",
   "metadata": {},
   "source": [
    "# Introduction, Course and Module Overview"
   ]
  },
  {
   "cell_type": "markdown",
   "metadata": {},
   "source": [
    "![](https://storage.googleapis.com/agungwahyudi-public-files/design_site_recovery_azure-4-000002.png)"
   ]
  },
  {
   "cell_type": "markdown",
   "metadata": {},
   "source": [
    "Hello. This is Anthony Nocentino with Centino Systems. Welcome to my course, Designing a Site Recovery Strategy on Microsoft Azure. This module is Designing Site Failover Strategy. In this module, we'll look more closely at how to failover into Azure and failback, and also building recovery plans to coordinate failover and automate tasks. We're at the end of the course here, and we've discussed a lot. We've talked about defining our site recovery goals, how to design and implement our site recovery infrastructure, and we've also identified supported workloads for Azure Site Recovery. And now it's time to bring this all together and leverage our recovery strategy and talk about designing a site failover strategy, ensuring business continuity in a failover event."
   ]
  },
  {
   "cell_type": "markdown",
   "metadata": {},
   "source": [
    "![](https://storage.googleapis.com/agungwahyudi-public-files/design_site_recovery_azure-4-000003.png)"
   ]
  },
  {
   "cell_type": "markdown",
   "metadata": {},
   "source": [
    "In this module, we will begin with running a disaster recovery drill into Azure, validating that everything works properly before we have to do it for real. Then we'll look at building a recovery plan. This will allow us to group in sequence the failover of our systems into Azure in a defined way. After that, we'll look at adding some scripts to our recovery plans so that we can assert some configuration during failover for either infrastructure or our applications, and then we'll wrap it all up with running a failover into Azure and also failing back from Azure."
   ]
  },
  {
   "cell_type": "markdown",
   "metadata": {
    "vscode": {
     "languageId": "plaintext"
    }
   },
   "source": [
    "# Running a Disaster Recovery Drill"
   ]
  },
  {
   "cell_type": "markdown",
   "metadata": {},
   "source": [
    "![](https://storage.googleapis.com/agungwahyudi-public-files/design_site_recovery_azure-4-000004.png)"
   ]
  },
  {
   "cell_type": "markdown",
   "metadata": {},
   "source": [
    "When it comes to DR planning, the key is test, test, test. Testing is going to provide you four critical benefits. First, you'll sift out any bugs in your site recovery implementation. Second, when you have to do it for real, you'll get more experience and be comfortable with the process. Third, you'll know how long it takes to perform a failover, which is key to meeting your recovery objectives. And the last key reason to test is you want to be able to ensure that your workload even starts up properly in your DR region. Are you hitting a resource limit? Are all of your scripts configured correctly and available for execution? These are the types of things that will surface during a test failover."
   ]
  },
  {
   "cell_type": "markdown",
   "metadata": {},
   "source": [
    "![](https://storage.googleapis.com/agungwahyudi-public-files/design_site_recovery_azure-4-000005.png)"
   ]
  },
  {
   "cell_type": "markdown",
   "metadata": {},
   "source": [
    "In Azure Site Recovery, you can perform a test failover on a single virtual machine or a collection of protected virtual machines by failing over a recovery plan. When you perform a test failover, it does not impact the ongoing replication of your virtual machines. So your primary application will still continue to work and will still continue replicating your data to the DR region or site. When performing a test failover, it's considered best practice to failover to a separate test virtual network inside of Azure that is isolated from your production site recovery network. This is the benefit of ensuring that your applications don't start up and potentially change any production data or configurations. And after you've completed your test failover, you'll want to clean up any resources that were created. When you perform a test failover, Azure virtual machines are created and started, and snapshots of the Azure disks used to replicate your data into Azure are attached to the appropriate virtual machines. You'll want to clean up those resources when you're finished so that you've reduced your resource consumption and costs inside of Azure."
   ]
  },
  {
   "cell_type": "markdown",
   "metadata": {
    "vscode": {
     "languageId": "plaintext"
    }
   },
   "source": [
    "# Demo: Running a Disaster Recovery Drill"
   ]
  },
  {
   "cell_type": "markdown",
   "metadata": {},
   "source": [
    "![](https://storage.googleapis.com/agungwahyudi-public-files/design_site_recovery_azure-4-000006.png)"
   ]
  },
  {
   "cell_type": "markdown",
   "metadata": {},
   "source": [
    "All right, so let's get into demo and look at how we can run a test failover in Azure. We're going to perform a test failover on that Azure virtual machine that we configured for replication between the Central US region and the East US region. And once that test failover has completed, we'll look at the process of cleaning up our test failover resources.\n",
    "\n",
    "So here we are in the Azure portal, and we're in our recovery services vault that we created together in an earlier demonstration. And so what we're going to do in this demonstration is test the failover of that Azure VM that we're replicating from the Central US region into the East US region. And so let's go ahead and perform that together. Now on the dashboard here we see failover test success. Three tests are recommended. Azure Site Recovery is recommending to us that we perform a tests failover for each of the virtual machines that we currently have protected by Azure Site Recovery, the one Azure VM and the two on‑premises Hyper‑V virtual machines. And so let's go ahead and start the process of performing a test failover on that Azure virtual machine. Now if I go over here and I scroll down and I click on Replicated items, and then here we see the virtual machines that we're protecting with Azure Site Recovery. We see AppServer1 in the Central US region, and then we also have our two on‑premises Hyper‑V site virtual machines, WebServer1 and FileServer1. If I click on AppServer1, which is our Azure VM that we want to test failover, I get on to the replicated items screen for this particular virtual machine. And so here we see that our replication health is healthy, and our status is protected. But also here in this essential information, we see last successful failover test, never performed successfully. And so let's go ahead and fix that. Now on the top menu bar here, we can click Test Failover. And what that's going to do is take us to the test failover wizard. Now in the test failover wizard, we have some choices that we have to make it, and let's walk through each one of these elements together. Well first up, decided for us already is the failover direction. We see from Central US to East US. Now for recovery point, we have some options. So let's go ahead and check this out here. We'll click on the drop‑down box here, and we have a collection of different recovery points that we can choose from, and let's walk through each of those. First up is latest, lowest RTO. When a failover is triggered in ASR, it will process all of the replicated log in the cache prior to bringing the virtual machine online. This will result in the latest recovery point, but can take some time to process all of that log, potentially impacting your RTO or your recovery time objective. Next, we have latest processed or low RTO. What this is going to do is provide the fastest failover because it's going to use the most recent fully processed recovery point, resulting in the fastest recovery time. Next up is latest app consistent. What this is going to do is give us the ability to recover to the latest application‑consistent snapshot as defined in our replication policies. And then finally, we have custom. Let's go ahead and pick custom and show you what that brings up. What that gives you the ability to do is to more gradually pick an exact recovery point based on the snapshots available. And so walking back in time, we can see those 5‑minute crash‑consistent snapshots inside of Azure all the way up to that application‑consistent snapshot that happens at 9:05 am. And so if we need to, we can more granularly pick which recovery point we need based on the exact RPO that we want to achieve if we need to fell back to an exact point time to recover from a particular failure. And for our application here, I'm going to go ahead and select Latest processed (low RTO). And then the final option that we have to choose is the Azure virtual network that we want to failover to, and I'm going to go ahead and select AppServer‑vnet‑asr. Let's go ahead and click OK to initialize our test failover. And so I'm going to go ahead and pause the video here and come back in a minute once this test failover is complete. Now with the test failover successfully completed, let's review some of the more detailed information about what's occurred during that test failover. So let's go ahead and close this notifications bar out here. And on the screen right here, we see we still have the same information up that we had before that says that our last successful test failover was never performed successfully. And so let's do a quick refresh of this window and get the new information that's now available to us. And so with the window refreshed, now we see last successful test failover is blank, and the status of this replicated item is now cleanup test failover pending. And so it's reminding us that we need to go ahead and clean up the resources associated with our test failover. Now in the menu bar at the top here, we have the ability to now click Cleanup test failover, and so let's go ahead and initialize that process to clean up the test failover. And so now we're going to have the ability to enter some notes about what occurred during that test failover. And so we can just say something like successful test. And at the bottom here, we have the ability to check the box that says testing is complete. Delete the test failover virtual machines. So the VMS that were created in that target region will be deleted once this operation completes. And so on the upper right hand there, we see that the operation is in progress to delete the test failover resources. Now before moving into the next demo, I want to take one more peek at some logging information about what occurred during that test failover. And so let's go back to the main overview page of our ASR vault. And at the bottom here we have, underneath monitoring, the site recovery jobs area, and that's going to give us the detailed information about what's occurred during that process. And so if I see here in this list test failover, let's go ahead and click on that. And so inside of this job, we can see what occurred during that test failover. And so walking through that line by line, we can see prerequisite checks for test failover, create test virtual machine, preparing virtual machine, and then also start the virtual machine. And so this is literally creating and starting a virtual machine in that target region for us when we perform that test failover. Now the job for cleaning up our test failover resource is still executing, but I'm going to stop the video now and get back into the presentation portion of the course."
   ]
  },
  {
   "cell_type": "markdown",
   "metadata": {
    "vscode": {
     "languageId": "plaintext"
    }
   },
   "source": [
    "# Working with Recovery Plans"
   ]
  },
  {
   "cell_type": "markdown",
   "metadata": {},
   "source": [
    "![](https://storage.googleapis.com/agungwahyudi-public-files/design_site_recovery_azure-4-000007.png)"
   ]
  },
  {
   "cell_type": "markdown",
   "metadata": {},
   "source": [
    "So I've alluded to recovery plans several times throughout the course as a feature of Azure Site Recovery. Let's dig into what they are and how they work now. Recovery plans give you the ability to define systematic recovery processes. One of the core things for me when designing disaster recovery systems is that when it's time to execute a disaster recovery plan, the last thing I want to do is think. Now in the old days, you used to have a runbook, a sequence of tasks to perform. Think of a recovery plan as an implementation of your runbook, but in ASR. You going to define some steps, and they're going to happen in that order. A recovery plan gives you the ability to model an application and its dependencies. Does your business‑critical application use multiple application servers, a file server and perhaps the database server? And perhaps you need to fail that over into Azure as a unit, and that's what recovery plans do for you. You can define dependencies in the recovery plan and make that failover as a unit happen. Let's explore that concept a little bit further. Do you need the database server to start first, then the file server, and then the application servers? Recovery plans give you the ability to sequence the start times for the virtual machines so that they'll recover appropriately in Azure, starting up in your defined order. And finally, a very, very cool feature of recovery plans is the ability to automate recovery tasks. In recovery plans, you can attach code that executes at defined points in time during the failover. This helps reduce RTO and also human error since it reduces the amount of human intervention in your recovery plan. And we're going to look closely at these in our upcoming demonstration. Now I want to call out that in Azure Site Recovery, you can failover a single virtual machine. But when you put a virtual machine or a collection of virtual machines into a recovery plan, this becomes your unit of failover. This is the thing that you're going to failover during a DR or a test failover for your workload in Azure. But the key takeaway here is that recovery plans are a crucial tool for your DR planing, giving you a defined, tested process to failover your systems into Azure."
   ]
  },
  {
   "cell_type": "markdown",
   "metadata": {
    "vscode": {
     "languageId": "plaintext"
    }
   },
   "source": [
    "# Demo: Working with Recovery Plans"
   ]
  },
  {
   "cell_type": "markdown",
   "metadata": {},
   "source": [
    "![](https://storage.googleapis.com/agungwahyudi-public-files/design_site_recovery_azure-4-000008.png)"
   ]
  },
  {
   "cell_type": "markdown",
   "metadata": {},
   "source": [
    "Alright, so let's get in a demo and learn how we can use recovery plans to help add some order to failing over a group of virtual machines into Azure. Alright, so here we are in the Azure portal. Let's go through the process of creating a recovery plan where we're going to group two virtual machines to failover together into Azure and then sequence them in a defined order. Now the virtual machines that we're going to build a recovery plan for to failover into Azure are going to be those two Hyper‑V virtual machines that we created together and replicated into Azure Site Recovery in the module, Designing and Implementing Site Recovery Infrastructure. Now let's go through the process of creating a recovery plan together. On the left‑hand side here, if we scroll down into the Manage area and click on Recovery Plans, we'll get the ability to create a recovery plan. Let's go ahead up to the top here and click add Recovery plan. Now on the recovery plan wizard, the first thing that we have to do is give it a name. Let's go ahead and give that a name of MyPlan. Now for Source, we've got a couple options to pick from here, basically anywhere we have defined resources. So on the top there, we see some Azure resources, and so those are all the regions that have resources available in Azure that I can create recovery plans for. Next up, at the bottom there, we see our HyperVSites, and so let's go and select our HyperVSite. That's the one that we created in the previous demonstration. Now the Target's going to be Azure, and we're going to select the deployment model of Resource Manager. And right here, we can see Select items 0. So if we click on that, then drill down a little bit further, there we see our on‑premises virtual machines. So there's WebServer1 and FileServer1. So let's go ahead and select both of those to be a member of this recovery plan. With that, let's go and click OK to create that actual recovery plan. So this will create the recovery plan for us. Now we're going to have to go back and customize the recovery plan to define the ordering that we want so that we can failover the file server first and then the web server second. So there we see our recovery plan's created. Let's go ahead and click on our recovery plan. And on the top left here we can see Customize. Let's go ahead and click Customize. So on the right, we have some groupings, and so let's expand Group 1. So in Group 1, there we see our WebServer1 and FileServer1, and these would failover as a unit together into Azure as part of the default recovery plan configuration. But I want these to failover in sequence. I want the file server to failover first and then the web server to failover second. So let's walk through that together. We'll remove this web server from Group 1, so let's go ahead and click Delete machine. And with that, we'll add a second group. So let's go ahead and click add Group at the top here, and there we see our Group 2 with 0 machines configured. Let's go and click the ellipsis over here to add a protected item. Once we add a protected item, it gives us the ability to pick another member of this particular recovery plan. In this case, it's WebServer1. Let's go and check that box, click OK, and now we have Group 1 is going to start the file server and then Group 2 starting up the web server. The recovery plan has the responsibility of ensuring these virtual machines start in this order. Let's go and save these settings, and that's going to update that recovery plan in Azure for us so that we can use this recovery plan to failover these virtual machines as a group, but in a defined order, FileServer1 first and then WebServer1 second."
   ]
  },
  {
   "cell_type": "markdown",
   "metadata": {
    "vscode": {
     "languageId": "plaintext"
    }
   },
   "source": [
    "# Adding Automation Scripts to Recovery Plans"
   ]
  },
  {
   "cell_type": "markdown",
   "metadata": {},
   "source": [
    "![](https://storage.googleapis.com/agungwahyudi-public-files/design_site_recovery_azure-4-000009.png)"
   ]
  },
  {
   "cell_type": "markdown",
   "metadata": {},
   "source": [
    "So we've talked a few times about using automation scripts in your recovery plans. Now it's time to take a closer look at that process and what are some of the common scenarios that this is useful? The first scenario is executing scripts to reconfigure a virtual machine or the platform after failover. Maybe you need to adjust some infrastructure configuration. Perhaps you need to put the failed‑over virtual machine behind a public IP address or assign it to a particular resource group or security group or maybe even make it available behind the load balancer. So this first scenario here is managing or configuring the platform, the infrastructure for your virtual machines.\n",
    "\n",
    "Now another common scenario is that after the virtual machine fails over, you execute some code inside the operating system, perhaps reconfiguring some software, making configuration changes or even updating database connection strings. So again, you can execute a script and have the VM do something inside the OS to reconfigure your application."
   ]
  },
  {
   "cell_type": "markdown",
   "metadata": {
    "vscode": {
     "languageId": "plaintext"
    }
   },
   "source": [
    "# Demo: Adding Automation Scripts to Recovery Plans"
   ]
  },
  {
   "cell_type": "markdown",
   "metadata": {},
   "source": [
    "![](https://storage.googleapis.com/agungwahyudi-public-files/design_site_recovery_azure-4-000010.png)"
   ]
  },
  {
   "cell_type": "markdown",
   "metadata": {},
   "source": [
    "All right, it's time for a demo, and let's look at how we can add script automation to our recovery plans. So here we are in the customization screen of the recovery plan that we created together in the previous demonstration. So there we see FileServer1 and WebServer1 in their appropriate groups and their startup orders sequenced. Now let's say I wanted to add a script to execute before the start up of FileServer1, perhaps a script that updated a DNS record pointing users to the new IP address of FileServer1 when it fails over. Let's go ahead and do that together. If I click on the context menu for the group, I get the ability to add a protected item, add a pre‑action, or add a post action. So a protected item would be another virtual machine or some other resource that I'd want to add to this particular group. But for the actions there, we have pre‑action and post action. That pre‑action is going to execute before the virtual machine fails over, and that post action will execute after the virtual machine. So for this specific scenario, I want to update the DNS record before the virtual machine fails over so when it fails over, users will be able to connect to it on that new IP address. And so let's go ahead and do that together. I want to add a pre‑action. And so on the Insert action screen here, the first thing that I have to do is add a name to the action that I want to have executed. And so let's just go out and call this one Update DNS. I've pre‑created a runbook in an existing Azure automation account. So if I go to the runbook name here and hit the drop‑down, you'll see the two runbooks that I have created. And those runbooks are the implementation details of both of the functions that I need for the various recovery plan automation techniques that I want to highlight today. And so in this case, let's go ahead and select the runbook for Update‑DnsSetting. And so with that, let's go ahead and click OK, and that's going to assign that action to execute before that virtual machine starts up. Now let's say I needed to update something inside of the virtual machine. Well I'd want to do that after the virtual machine failed over. And let's go ahead and do that for WebServer1 as part of Group 2. So for Group 2, I'm going to click on the context menu and add a post action this time. And the post action is going to be something called Update DB Connection String. And inside that automation account, I have another runbook that has the implementation of that PowerShell to do that inside my virtual machine. So let's go ahead and pick Update DB Connection String as the runbook name. We'll click OK. And with that, we have our steps added to our recovery plan. And so there in Group 1, we see pre‑steps calling the script to Update DNS. And then in Group 2, we have post steps for the scripts to update the database connection string. So let's go ahead and save that to make sure that we have that implementation ready from we perform a failover in an upcoming demonstration later on in this module."
   ]
  },
  {
   "cell_type": "markdown",
   "metadata": {
    "vscode": {
     "languageId": "plaintext"
    }
   },
   "source": [
    "# Planning Failover and Failback"
   ]
  },
  {
   "cell_type": "markdown",
   "metadata": {},
   "source": [
    "![](https://storage.googleapis.com/agungwahyudi-public-files/design_site_recovery_azure-4-000011.png)"
   ]
  },
  {
   "cell_type": "markdown",
   "metadata": {},
   "source": [
    "So as you're planning your site recovery strategy, you will want to understand the mechanisms and some of the considerations for failover, so let's go through some of those core concepts here. Now, first of all, there are two types of failover available inside of Azure Site Recovery, planned failover and unplanned failover. And so the big question is, what's the difference between these two options?\n",
    "\n",
    "Well, in a planned failover, that's where you're expecting to execute the failover process. So, perhaps you're doing some sort of maintenance or downtime and you want to move your workload into Azure to keep things online during that maintenance, you'll take your applications offline to ensure that there's no data changing, and give the remaining change data time to replicate into Azure. And then you'll initiate a failover in your Recovery Services vault on your virtual machines or your recovery plan, and this process will ensure that the final bits of data are replicated between the source systems and the target systems before bringing things online. Now, in the Hyper‑V scenario, if you execute a planned failover, what's going to happen is the virtual machines on the source system will be automatically shut down for you, and then the remaining change data will be replicated into Azure, and then those virtual machines would be brought online as defined in your recovery plan or with the individual virtual machine failover. So with a planned failover, you're looking at zero data loss,\n",
    "\n",
    "but, of course, Site Recovery is a disaster recovery service, and so there are times where you want to plan for some sort of unplanned failover or outage. So perhaps there was a power outage or some other catastrophic event that happened and you need to forcefully failover in an unplanned way into Azure. So what's going to happen here is you might lose a little bit of data because you're going to initiate an unplanned failover. You'll have to pick a recovery point that's available to you inside of Azure, and so it's possible that there was some sort of replication delay or you're between snapshot intervals when the on‑premises environment went down and you started to execute your failover strategy. Now, these concepts all tie back to what we discussed in the earlier modules about capacity planning and minimizing data loss by ensuring that data is replicating efficiently and quickly into your DR site with well‑defined replication policies and with the appropriate design, implementation, monitoring, and well‑defined business supported recovery objectives, Azure Site Recovery service can help you meet these DR goals during a failover event, planned or unplanned."
   ]
  },
  {
   "cell_type": "markdown",
   "metadata": {},
   "source": [
    "![](https://storage.googleapis.com/agungwahyudi-public-files/design_site_recovery_azure-4-000012.png)"
   ]
  },
  {
   "cell_type": "markdown",
   "metadata": {},
   "source": [
    "Before you initiate a failover, you want to make sure that you understand what the failback considerations are in your site recovery strategy, and so let's start off with the Azure scenario. When we're replicating virtual machines from one Azure region to another, after failover between regions, you will want to enable the Reprotect option on the virtual machine. This will start replicating data back over to the original source region. Then when you're ready, you can failover your workload once the virtual machine is protected again. In the VMware VM, or physical server scenario, when you've failed over into Azure, to failback, you will need to deploy a process server up in Azure, and on‑premises you will need to deploy a master target server. The process server is used to replicate data back to your on‑prem site, and the master target server is there to receive that data. And in this failback scenario, you'll be failing back to VMware virtual machines on your on‑premises VMware platform. And to do this in Azure, you need to enable the Reprotect option to start replicating your virtual machines back to your on‑premises environment, and then initiate a failover to that on‑premises VMware environment. Now, one very critical thing that I want to call out here is that if you ever failover a physical system into Azure, it becomes an Azure virtual machine, and then when you fail it back on‑prem, it must failback as a VMware virtual machine, so you will need on‑premises VMware infrastructure to failback into if your source systems were originally physical servers. Now, for the Hyper‑V scenario, let's say we have some Hyper‑V virtual machines and we failed them over into Azure, what you need to do to get them back on‑prem is to run a planned failover from Azure back to your on‑premises environment. You won't need any additional infrastructure on‑prem, but you do need to know how you want to synchronize that data back before you failback. Your options are full download or minimized downtime, and we cover these options in detail in the module Designing and Implementing Site Recovery Infrastructure. And so these are some of the design considerations that you should keep in mind if you're needing to failback, but make sure that you understand these and have plans for these before you ever failover into Azure."
   ]
  },
  {
   "cell_type": "markdown",
   "metadata": {
    "vscode": {
     "languageId": "plaintext"
    }
   },
   "source": [
    "# Demo: Failing over Azure VMs Between Regions"
   ]
  },
  {
   "cell_type": "markdown",
   "metadata": {},
   "source": [
    "![](https://storage.googleapis.com/agungwahyudi-public-files/design_site_recovery_azure-4-000013.png)"
   ]
  },
  {
   "cell_type": "markdown",
   "metadata": {},
   "source": [
    "All right, so let's get into a demo. And the first item that we're going to do here is failing over an Azure virtual machine between regions. Then, after that, what we're going to do is we're going to failover our on premises Hyper‑V virtual machines into Azure using our recovery plan. And then we'll wrap it up by failing those virtual machines from Azure back onto our on‑premises Hyper‑V host. All right, so here we are in the Azure portal inside of our recovery services vault. And let's go ahead and start the process of failing over an Azure virtual machine between regions. And to do that, let's go ahead and scroll down on the left here and select Replicated items. Now for the server that we want to move between regions, that's going to be our Azure VM, and that's AppServer1, which is currently running in Central US. So if we go over here, we click on the context menu, and we have the ability to click Failover or Test Failover. And another method at which we get access that menu is inside the actual replicated item configuration itself. And here at the top, we see failover and test failover. So let's go ahead and click Failover to start the process of failing over this virtual machine. Now in the failover screen here, the first thing that we see is failover direction. It's going to be from Central US to East US. Now for recovery point, we have the standard options, such as latest processed, latest, latest app‑consistent, and custom. Now let's go ahead and use latest processed, and we're going to check the box to shut down the virtual machine before failover so that that workload is now offline on the source systems since we're doing a plan failover. So let's go ahead and click OK to start the process of failing over that virtual machine between the Central region and the East US region. Now I'm going to pause the video here and come back in a second once the failover is complete. So now I just got the notification that our failover is complete. We can see that there with successfully completed the operation. So let's go ahead and close the notification bar here. And the first operation that we want to do after we fail over a virtual machine is to re‑protect it so it's replicating back to the original source region. So right now our virtual machine is online in East US, and I want to make sure that it's being replicated back to Central US. And so let's go ahead and do that. I'll go ahead and click the Re‑protect option here at the top of the replicated items configuration. To re‑protect a virtual machine, we need to make sure that we have the appropriate target infrastructure in the new target region, which is Central US. And so at the bottom here, we can see the screen similar to what we looked at earlier on in the course when we configured replication, and we need to make sure that we have the appropriate resources in our now new target region, which is Central US. So we have a target resource group, which is going to be the original app service resource group. We have our target virtual network, which is going to be the original app server VNet. But we need a cache storage account to cache the replication data from East US to Central US, so that's going to be added in the target region. And we're also going to have a replica managed disc in the new target region, Central US. And then also, this particular VM didn't have any availability sets, so that's going to be not applicable. Let's click OK to start the process of deploying those resources in that new target region, which is our original source region, Central US, and then also starting the replication process from East US back to Central US. And so I'm going to pause the video here again and come back when this process is completed. And then after a few minutes, we see we have some notifications describing the successful completion of the deployment in the target region, Central US, creating those additional resources for our Azure Site Recovery infrastructure. And then we also have a notification for the re‑protecting of the virtual machine because it's now synchronizing from East US back to Central US. And at some time in the future, if I want to, I could failover that virtual machine back to the original source location, which is Dentral US."
   ]
  },
  {
   "cell_type": "markdown",
   "metadata": {
    "vscode": {
     "languageId": "plaintext"
    }
   },
   "source": [
    "# Demo: Failing over Azure VMs Between Regions"
   ]
  },
  {
   "cell_type": "markdown",
   "metadata": {
    "vscode": {
     "languageId": "plaintext"
    }
   },
   "source": [
    "All right, so let's get into a demo. And the first item that we're going to do here is failing over an Azure virtual machine between regions. Then, after that, what we're going to do is we're going to failover our on premises Hyper‑V virtual machines into Azure using our recovery plan. And then we'll wrap it up by failing those virtual machines from Azure back onto our on‑premises Hyper‑V host. All right, so here we are in the Azure portal inside of our recovery services vault. And let's go ahead and start the process of failing over an Azure virtual machine between regions. And to do that, let's go ahead and scroll down on the left here and select Replicated items. Now for the server that we want to move between regions, that's going to be our Azure VM, and that's AppServer1, which is currently running in Central US. So if we go over here, we click on the context menu, and we have the ability to click Failover or Test Failover. And another method at which we get access that menu is inside the actual replicated item configuration itself. And here at the top, we see failover and test failover. So let's go ahead and click Failover to start the process of failing over this virtual machine. Now in the failover screen here, the first thing that we see is failover direction. It's going to be from Central US to East US. Now for recovery point, we have the standard options, such as latest processed, latest, latest app‑consistent, and custom. Now let's go ahead and use latest processed, and we're going to check the box to shut down the virtual machine before failover so that that workload is now offline on the source systems since we're doing a plan failover. So let's go ahead and click OK to start the process of failing over that virtual machine between the Central region and the East US region. Now I'm going to pause the video here and come back in a second once the failover is complete. So now I just got the notification that our failover is complete. We can see that there with successfully completed the operation. So let's go ahead and close the notification bar here. And the first operation that we want to do after we fail over a virtual machine is to re‑protect it so it's replicating back to the original source region. So right now our virtual machine is online in East US, and I want to make sure that it's being replicated back to Central US. And so let's go ahead and do that. I'll go ahead and click the Re‑protect option here at the top of the replicated items configuration. To re‑protect a virtual machine, we need to make sure that we have the appropriate target infrastructure in the new target region, which is Central US. And so at the bottom here, we can see the screen similar to what we looked at earlier on in the course when we configured replication, and we need to make sure that we have the appropriate resources in our now new target region, which is Central US. So we have a target resource group, which is going to be the original app service resource group. We have our target virtual network, which is going to be the original app server VNet. But we need a cache storage account to cache the replication data from East US to Central US, so that's going to be added in the target region. And we're also going to have a replica managed disc in the new target region, Central US. And then also, this particular VM didn't have any availability sets, so that's going to be not applicable. Let's click OK to start the process of deploying those resources in that new target region, which is our original source region, Central US, and then also starting the replication process from East US back to Central US. And so I'm going to pause the video here again and come back when this process is completed. And then after a few minutes, we see we have some notifications describing the successful completion of the deployment in the target region, Central US, creating those additional resources for our Azure Site Recovery infrastructure. And then we also have a notification for the re‑protecting of the virtual machine because it's now synchronizing from East US back to Central US. And at some time in the future, if I want to, I could failover that virtual machine back to the original source location, which is Dentral US."
   ]
  },
  {
   "cell_type": "markdown",
   "metadata": {
    "vscode": {
     "languageId": "plaintext"
    }
   },
   "source": [
    "# Demo: Failback Hyper-V From Azure to On-Premises"
   ]
  },
  {
   "cell_type": "markdown",
   "metadata": {
    "vscode": {
     "languageId": "plaintext"
    }
   },
   "source": [
    "So let's jump out of here and head on back over to our ASRVault one last time because the next operation that we're going to do is take these virtual machines that are in Azure and then fail them back onto your on‑premises site and bring them online in our local on‑premises Hyper‑V server. And to do that, let's go ahead and scroll down to Recovery Plans. Inside of Recovery Plans, we're going to click on our plan again. And this time, we're going to click on the context menu one more time and do a planned failover. And so now we can see that the failover direction is swapped because we're currently online inside of Microsoft Azure, and we want to take these virtual machines and send them back down to our Hyper‑V site named HyperVSite. We can see 2 of 2 virtual machines will be failed over. Now here we see our data synchronization options. We see Minimize downtime and Full download. And we talked about the pros and the cons of each one of those in the various scenarios based on the amount of data change that's occurred inside of the virtual machine itself while it's been online inside of Azure. I'm going to go ahead and select Full download, and that's going to download each virtual machine's disks in its entirety from Azure. Let's scroll down a little bit further, and here we see a checkbox that says Create the virtual machine on‑premises if it does not exist already. So my virtual machines, I didn't delete them from my on‑prem server, so I know that they're there already. Let's go and click OK and start that process. And so now what's happening is the virtual machines inside of Azure are going to shut down. The virtual machine data and configuration is going to stream from Azure back down to my on‑premises infrastructure. And so I'm go ahead and pause the video here, and we'll come back in a few minutes and check on the status of this job. And so here in the Notifications, after a few minutes, we can see the Planned failover of myplan has successfully completed. And to finalize the failover, let's go ahead and click on the context menu here and Commit the failover. Go ahead and click OK. Then once the commit process is finished, lets go and hit the context menu one last time and Reverse Replicate. And what reverse replicate's going to do is it's going to start replicating the on‑premises virtual machines from our Hyper‑V hosts back into Azure again. If we swing back over to our on‑premises Hyper‑V server, we can see that both the virtual machines, WebServer1 and FileServer1, are online and running on my local on‑premises Hyper‑V server. They've been up for a few minutes, just about 5 minutes there. And we can also see that their status is replicating changes, so it's sending its data back on up into Azure and reseeding the replication back into Azure to protect these virtual machines again. If we right‑click on the virtual machine and we go to Replication and we check its replication health, we can see that the virtual machine is currently replicated and is healthy back replicating into Azure. And so with that, that completes our process of failing over our on‑premises Hyper‑V virtual machines into Azure, having them up and running, and then failing them back, kind of completing that DR lifecycle."
   ]
  },
  {
   "cell_type": "markdown",
   "metadata": {
    "vscode": {
     "languageId": "plaintext"
    }
   },
   "source": [
    "# Module Review and Thank You!"
   ]
  },
  {
   "cell_type": "markdown",
   "metadata": {},
   "source": [
    "![](https://storage.googleapis.com/agungwahyudi-public-files/design_site_recovery_azure-4-000014.png)"
   ]
  },
  {
   "cell_type": "markdown",
   "metadata": {},
   "source": [
    "All right, so here we are at the end of the module, and we covered a lot in this module. We learned that we can use test failovers to ensure that our workloads will come online inside of Microsoft Azure. Then we looked at recovery plans and how we can use recovery plans to help us failover workloads as a group in tightly coupled application scenarios that might span several virtual machines or replicated items. Next, we looked at how we can add automation to our recovery plans to configure both infrastructure and also the operating system or applications running in our virtual machines. And then we wrapped up the module with a series of demos on how to failover Azure virtual machines between regions and also how to failover our on‑premises Hyper‑V host VM into Azure and also how to fail them back from Azure back onto our on‑premises infrastructure. So here we are at the end of our course. I really hope you enjoyed listening to this and that we've laid the appropriate foundation for your Azure studies. We've covered a lot of ground together in this course, defining site recovery goals and learning the core capabilities of Azure Site Recovery. We looked at site recovery infrastructure and what you need where to get things up and running. We also learned how to identify supported regions and workloads and brought it all together with how to design and implement a failover strategy in Azure Site Recovery. It's truly been a pleasure recording this course, and I thank you for listening and, most importantly, learning with me. Thank you. I hope you enjoyed the course, and join me again soon here, at Pluralsight."
   ]
  }
 ],
 "metadata": {
  "language_info": {
   "name": "python"
  }
 },
 "nbformat": 4,
 "nbformat_minor": 2
}

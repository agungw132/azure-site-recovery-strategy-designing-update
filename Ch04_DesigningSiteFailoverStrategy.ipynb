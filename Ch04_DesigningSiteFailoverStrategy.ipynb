{
 "cells": [
  {
   "cell_type": "markdown",
   "metadata": {},
   "source": []
  },
{
"cell_type": "markdown",
"metadata": {},
"source": [
"![](https://storage.googleapis.com/agungwahyudi-public-files/design_site_recovery_azure-4-000002.png)"
]
},
  {
   "cell_type": "markdown",
   "metadata": {},
   "source": []
  },
{
"cell_type": "markdown",
"metadata": {},
"source": [
"![](https://storage.googleapis.com/agungwahyudi-public-files/design_site_recovery_azure-4-000003.png)"
]
},
  {
   "cell_type": "markdown",
   "metadata": {},
   "source": []
  },
{
"cell_type": "markdown",
"metadata": {},
"source": [
"![](https://storage.googleapis.com/agungwahyudi-public-files/design_site_recovery_azure-4-000004.png)"
]
},
  {
   "cell_type": "markdown",
   "metadata": {},
   "source": []
  },
{
"cell_type": "markdown",
"metadata": {},
"source": [
"![](https://storage.googleapis.com/agungwahyudi-public-files/design_site_recovery_azure-4-000005.png)"
]
},
  {
   "cell_type": "markdown",
   "metadata": {},
   "source": []
  },
{
"cell_type": "markdown",
"metadata": {},
"source": [
"![](https://storage.googleapis.com/agungwahyudi-public-files/design_site_recovery_azure-4-000006.png)"
]
},
  {
   "cell_type": "markdown",
   "metadata": {},
   "source": []
  },
{
"cell_type": "markdown",
"metadata": {},
"source": [
"![](https://storage.googleapis.com/agungwahyudi-public-files/design_site_recovery_azure-4-000007.png)"
]
},
  {
   "cell_type": "markdown",
   "metadata": {},
   "source": []
  },
{
"cell_type": "markdown",
"metadata": {},
"source": [
"![](https://storage.googleapis.com/agungwahyudi-public-files/design_site_recovery_azure-4-000008.png)"
]
},
  {
   "cell_type": "markdown",
   "metadata": {},
   "source": []
  },
{
"cell_type": "markdown",
"metadata": {},
"source": [
"![](https://storage.googleapis.com/agungwahyudi-public-files/design_site_recovery_azure-4-000009.png)"
]
},
  {
   "cell_type": "markdown",
   "metadata": {},
   "source": []
  },
{
"cell_type": "markdown",
"metadata": {},
"source": [
"![](https://storage.googleapis.com/agungwahyudi-public-files/design_site_recovery_azure-4-000010.png)"
]
},
  {
   "cell_type": "markdown",
   "metadata": {},
   "source": []
  },
{
"cell_type": "markdown",
"metadata": {},
"source": [
"![](https://storage.googleapis.com/agungwahyudi-public-files/design_site_recovery_azure-4-000011.png)"
]
},
  {
   "cell_type": "markdown",
   "metadata": {},
   "source": []
  },
{
"cell_type": "markdown",
"metadata": {},
"source": [
"![](https://storage.googleapis.com/agungwahyudi-public-files/design_site_recovery_azure-4-000012.png)"
]
},
  {
   "cell_type": "markdown",
   "metadata": {},
   "source": []
  },
{
"cell_type": "markdown",
"metadata": {},
"source": [
"![](https://storage.googleapis.com/agungwahyudi-public-files/design_site_recovery_azure-4-000013.png)"
]
},
  {
   "cell_type": "markdown",
   "metadata": {},
   "source": []
  },
{
"cell_type": "markdown",
"metadata": {},
"source": [
"![](https://storage.googleapis.com/agungwahyudi-public-files/design_site_recovery_azure-4-000014.png)"
]
},
  {
   "cell_type": "markdown",
   "metadata": {},
   "source": []
  },

  {
   "cell_type": "markdown",
   "metadata": {},
   "source": []
  }
 ],
 "metadata": {
  "language_info": {
   "name": "python"
  }
 },
 "nbformat": 4,
 "nbformat_minor": 2
}

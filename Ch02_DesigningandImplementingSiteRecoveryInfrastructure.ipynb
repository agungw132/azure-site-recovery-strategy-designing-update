{
 "cells": [
  {
   "cell_type": "markdown",
   "metadata": {},
   "source": [
    "# Introduction, Course and Module Overview"
   ]
  },
  {
   "cell_type": "markdown",
   "metadata": {
    "vscode": {
     "languageId": "plaintext"
    }
   },
   "source": [
    "Hello. This is Anthony Nocentino with Centino Systems. Welcome to my course, Designing a Site Recovery Strategy on Microsoft Azure. This module is Designing and Implementing Site Recovery Infrastructure. In this module, we'll look more closely at the site recovery infrastructure needed in the various replication scenarios in Microsoft Azure, focusing on key topics such as capacity planning, server registration, configuring replication policies, and enabling protection on systems."
   ]
  },
  {
   "cell_type": "markdown",
   "metadata": {},
   "source": [
    "![](https://storage.googleapis.com/agungwahyudi-public-files/design_site_recovery_azure-2-000002.png)"
   ]
  },
  {
   "cell_type": "markdown",
   "metadata": {
    "vscode": {
     "languageId": "plaintext"
    }
   },
   "source": [
    "Marching forward in the course, in the module, Defining Site Recovery Goals, we introduced Azure Site Recovery and talked about its capabilities. Now it's time to dig a level deeper in the module, Designing and Implementing Site Recovery Infrastructure."
   ]
  },
  {
   "cell_type": "markdown",
   "metadata": {},
   "source": [
    "![](https://storage.googleapis.com/agungwahyudi-public-files/design_site_recovery_azure-2-000003.png)"
   ]
  },
  {
   "cell_type": "markdown",
   "metadata": {
    "vscode": {
     "languageId": "plaintext"
    }
   },
   "source": [
    "In this module, we'll begin with an overview of Site Recovery infrastructure, looking at what infrastructure is needed where in the various replication scenarios available in Azure Site Recovery. Next, we'll look at some capacity planning considerations for the on‑premises server infrastructure needed when replicating VMware in physical servers into Azure Site Recovery. Then we'll dive into working with replication policies and how they help us define what's replicated and how often. This is really the definition in the implementation of your recovery objectives. Then we'll wrap up the module with a series of demos, bringing it all together where we'll register our on‑premises server infrastructure, define a replication policy, and enable virtual machine protection for a collection of on‑premises Hyper‑V virtual machines."
   ]
  },
  {
   "cell_type": "markdown",
   "metadata": {},
   "source": [
    "# Overview of Site Recovery Infrastructure"
   ]
  },
  {
   "cell_type": "markdown",
   "metadata": {},
   "source": [
    "![](https://storage.googleapis.com/agungwahyudi-public-files/design_site_recovery_azure-2-000004.png)"
   ]
  },
  {
   "cell_type": "markdown",
   "metadata": {},
   "source": [
    "Now, this module is about designing and implementing Site Recovery infrastructure, and so let's take a quick overview of the various supported replication scenarios and the required Site Recovery infrastructure for each of those. Our Site Recovery replication scenarios, which we introduced in the module, Designing Stire Recovery Goals, are Azure VM, VMware and physical machines, Hyper‑V VMs, and also System Center Virtual Machine Manager managed virtual machines.\n",
    "\n",
    "First up, the Azure scenario. When replicating virtual machines between regions in Azure, the infrastructure is provided for you by Azure, and so there's really only two key elements that are surfaced that we're going to look at today. And first up is network mapping. Network mapping allows you to define the source and the target networks for your Azure Site Recovery protected virtual machines inside of Azure. The next configuration element is extension update settings. Extension update settings give you the ability to control how the Site Recovery mobility service is deployed and updated on your Azure virtual machines. When this is enabled, you get an Azure Automation account, which handles the extension installation and updates for your protected VMs. However, this setting can also be set to manual, if desired.\n",
    "\n",
    "Now, in the VMware and physical machine scenarios, there's a primary task of registering an on‑premises configuration server. When working with either VMware VMs or physical machines, you'll need to deploy a configuration server at your site and register your configuration server in your Site Recovery service's vault. The configuration server is responsible for orchestrating events with Azure Site Recovery. Now, once registered, your local virtual machines or physical machines will be available to be configured for protection by Azure Site Recovery. We're going to zoom in on the configuration server and the process server and their sizing and scaling later on in this module.\n",
    "\n",
    "Next, in the Hyper‑V scenario, you'll define a Hyper‑V site inside of your Recovery Services vault, which allows you to group your on‑premises Hyper‑V hosts into a single site and assign policy to that site. Now these Hyper‑V hosts are where you're going to install the Azure Site Recovery service provider and agent, which provide orchestration and data replication. Then you'll register each Hyper‑V host to a Hyper‑V site in your Recovery Services vault when you install these services. Once these hosts are registered in your Hyper‑V site, those virtual machines that are on those hosts will be available to be configured for protection in your Recovery Services vault.\n",
    "\n",
    "Now, for our final scenario, System Center Virtual Machine Manager, as introduced in the last module, the System Center Virtual Machine Manager scenario requires the azure Site Recovery provider to be installed on your VMM servers, and the Recovery Services' agent to be installed on each Hyper‑V host. Once the VMM server is registered inside your Site Recovery service's vault, the Hyper‑V VMs managed by that VMM server will be available to be configured for protection inside of Azure Site Recovery, Additionally, you also have network mappings where you can define a target network in Azure for those virtual machines to be started on. Now, each of these replications scenarios allow you to define a replication policy, and a replication policy is where you'll define things like how often snapshots are taken and how long they're retained inside of Azure. And we'll talk much more about replication policies in later detail in this module."
   ]
  },
  {
   "cell_type": "markdown",
   "metadata": {
    "vscode": {
     "languageId": "plaintext"
    }
   },
   "source": [
    "# Demo: Overview of Site Recovery Infrastructure"
   ]
  },
  {
   "cell_type": "markdown",
   "metadata": {},
   "source": [
    "![](https://storage.googleapis.com/agungwahyudi-public-files/design_site_recovery_azure-2-000005.png)"
   ]
  },
  {
   "cell_type": "markdown",
   "metadata": {},
   "source": [
    "Alright, so let's get into our first demo in this module and look at an overview of the Site Recovery infrastructure and where to configure inside of our Azure Site Recovery services vault. Here we are in the Azure portal with our Recovery Services vault open, the one that we created together into the previous module. So let's go ahead and scroll down a little bit in the left‑hand pane here, and we're going to find Site Recovery infrastructure, and let's go ahead and click on that. Now inside of here, we're going to see the Site Recovery infrastructure for each of the supported replication scenarios inside of Azure. So on the left here we see For Azure virtual machines, VMware & Physical Machines, For System Center VMM, and also Hyper‑V Sites at the bottom here. Now let's walk through the Site Recovery infrastructure for each of these supported replication scenarios together. Now underneath Azure virtual machines, we have Network mapping, Replication policies, and Extension update settings. Let's go ahead and walk through each one of these together. Now under Network mapping, we already have two network mappings defined. These network mappings came from our previous demonstration where we configured replication of that virtual machine from the Central US region to the East US region. And so what that did is provided us a network mapping in each direction. And so that first line there, we see appserver‑ vnet as the source network. That's the source network that our Windows virtual machine was created on. We see the source is going to be Central US, and then we have a target network of appserver‑vnet‑asr, which is in the East US region. That target network, appserver‑vnet‑asr, was created for us when we created the replication resources in that target region. You see that suffix of ‑asr. Now the next line, we have the reciprocal defining from East US back to Central US. So there we see appserver‑vnet‑asr in East US region, and then the target network is appserver‑vnet in Central US. Now underneath Replication policies, we also have a replication policy defined. When we set up replication in the previous demonstration, we chose the default options for our replication policy. And so here we see a 24‑hour retention policy. And so let's go ahead and click on this to look at the details and the configuration of this particular replication policy. The first configuration that we have here is the Recovery point retention in hours. And so this is how long it's going to keep recovery points online available for us inside of Azure, and that can be a value between 0 and 72. If you put our mouse over the tooltip here, we'll get some more detailed information about this particular configuration attribute. Now for the next setting here, we have App‑consistent snapshot frequency in hours, and so this is how often an application consistent snapshot is taken. And this setting here, by default, sets this to every 4 hours. Now, remember, we do have crash‑consistent snapshots happening every 5 minutes. If we hit the drop‑down box here, we can see we have a setting of Off all the way up to 12 hours, and so that's how frequently a application‑consistent snapshot will be taken. If we turn it off, no application‑consistent snapshots will be taken, but we still can rely on those crash‑consistent snapshots. So let's go ahead and close this out, and now let's head on down to Extension update settings. So a pretty straightforward setting here. We have this setting to allow Site Recovery service to manage the deployment of our virtual machine extension or that Azure Site Recovery mobility service into your Azure virtual machine. So here we can see we can turn out either off or on. Now let's move forward into the next replication scenario and look at the Site Recovery infrastructure required for VMware or physical machines. Now both of those share similar configurations, and so they're grouped together here in one Site Recovery setting infrastructure. And if we click on Configuration Servers, we have no configuration servers defined. And so if we wanted to, we could add a configuration server by clicking the + sign up here to add a configuration server. Now the first option that we have to choose is which type of server that we're going to be configuring, whether it's going to be VMware or physical. And so let's start off with the VMware scenario. Now if I scroll down here, what you're going to get is a step‑by‑step process that describes how to deploy, configure, and register your configuration server. Define in steps 1 and 2 describe how to download and deploy that OVF template on‑premises that gives you a virtual machine that's going to run the configuration server, the process server, and also that master target server. Steps 3 and 4 describe how you're going to connect to that virtual machine and also complete that installation by setting an administrator password. Step 5, there describes how you can launch the configuration wizard on that deployed virtual machine to register your on‑premises configuration server with your Azure Site Recovery services vault. So if we scroll up now and go to the top, that's for the VMware scenario. Let's go ahead and switch over to the physical server scenario and scroll this down a little bit here. This is going to describe the configuration to deploy your configuration server onto a physical system. And so step 1 there is going to tell you that you're going to need to run this on a pretty modern operating system, whether it's 2012 R2 or 2016. Step 2 is going to describe that you need to make sure that you either have proxy access or a direct access to the service URLs in Azure. Those are the services inside of Azure that your on‑premises infrastructure will need to be able to communicate to over the internet. Step 3 describes how you can download the Azure Site Recovery Unified Setup file, and then step 4 has what's called the vault registration key. The vault registration key includes information such as the location of your Recovery services vault and also the authentication information to authenticate your on‑premises configuration server into your Azure Site Recovery services vault. Now steps 5 through 8 describe the process for installing the configuration of process servers, registering them with Azure Site Recovery, and also has a link to the documentation for any additional remaining tasks for setting up replication for virtual machines or physical machines. So let's go ahead and close this out here, and we also have the ability to set up replication policies, so let's go ahead and check that out. Now we don't have any replication policies set for VMware or physical machines, but if we needed to, we can go ahead and define that here. So we'd give our policy a name. We can define the Source type, which is going to be VMware/ Physical machines, and that's our only option to choose from there. Now the Target type is going to be Azure, and then we describe the RPO threshold in mins. In this setting here, we have an RPO threshold of mins set to 60. So if our continuous data replication from on‑prem is falling behind this value, alerts can be generated telling us that we're outside of our RPO. Now moving down a little bit, we have Recovery point retention in hours, and so similar to the previous scenario, Recovery point retention in hours is how long we're going to keep recovery points available inside of Azure. And we also have set an application‑consistent snapshot frequency of 1 hour. Again, the ability to turn that off, or up to 12 hours are our options there. So let's go ahead and close out of here and head on over to the next configuration, which is going to be For System Center VMMS. So let's go ahead and click on VMM Servers. And so we don't have any VMM servers defined, but I do want to show you the process to add a VMM server and also a Hyper‑V host if needed to. And so in the Add Server wizard, if we scroll down a little bit, you'll see Register your System Center VMM server On‑premises and the individual steps to do that. And so first that we see, check that the VMM server has at least one VMM cloud configured. We also want to ensure access to those service URLs in step 2. Step 3 gives us the ability to download the Azure Site Recovery provider. That's the component that goes on the VMM server. Step 4 gives us the ability to download our vault registration key, which, similar to the previous scenario, has both the location of our Azure Site Recovery services vault and the ability to authenticate to it. And then step 5 gives us a link to some more detailed information about the installation of the provider on the VMM server if we need some more advanced options. Scrolling down a little bit further, we see Register your Hyper‑V hosts. So that first part was the VMM server. Now this part is each individual host that you have on‑premises. And so walking through these steps here, you see step 1. You need to have 2012 R2 or better. Step 2 says we need to check that our Hyper‑V host is assigned to an appropriate VMM cloud. Step 3, making sure that our Hyper‑V hosts can access those service URLs so they can communicate with Azure. Step 4 gives us a download to the Site Recovery services agent. That's the component that goes on the individual host. And step 5 tells us to run the installer and also gives us a link to more detailed information about that installation process if we need it. Alright, so let's go ahead and close out of here and head on over to our final replication scenario, and that's going to be Hyper‑V Sites. At the bottom here, we can see Hyper‑V Sites, Hyper‑V Hosts, and Replication policies, and let's start off with Hyper‑V Sites. A Hyper‑V Site is a way for me to aggregate on‑premises Hyper‑V hosts into a single unit inside of Azure Site Recovery and apply policy to them. And let's go ahead and create our first Hyper‑V site together. We'll click + Hyper‑V site and give our Hyper‑V site a name. I'll go ahead and call that HyperVSite. So let's go ahead and click OK to create that individual Hyper‑V site. Now for this demonstration, we're going to create this Hyper‑V site now, and in a later demonstration in this module, we're going to register a host to this Hyper‑V site. But just like we did for the other replication scenarios, I do want to walk you through the registration of adding a Hyper‑V host right now. So if we click on Hyper‑V Hosts and go ahead and click + Server, it'll describe the process just like the other replication scenarios in how we would go ahead and add a server to this particular Site Recovery services' vault. And so here we see Register your Hyper‑V host(s) On‑premises. Step 1 tells us that we have to have a modern operating system of 2012 R2 or above. Step 2 tells us that we need to make sure that we either have proxy access or direct access to the Azure service URLs for Azure Site Recovery. Step 3 gives us the ability to download the installer for the Site Recovery services provider, and I'm going to go and click that link there to start the download of that installation file, which we're going to use in a subsequent demonstration. So back over here in the portal again, step 4 describes how we can download the vault registration key. In here, we can see in that drop‑down now we have our HyperVSite listed. And so I'm going to go ahead and click Download to download the vault registration key. So contained inside that vault registration key it's going to have my HyperVSite information, my Azure Site Recovery services vault information, and the authentication information for my Site Recovery services vault. I'm going to take that and go to my Hyper‑V host, install the provider, give it the vault registration key, and it's going to know which Azure Site Recovery services vault and also which Hyper‑V site it's a member of. And we'll do that together later in the demonstration in this module. So let's go ahead and close out of here and head on back over to the Site Recovery infrastructure overview. Now the key takeaway for this module is Site Recovery infrastructure is the core place that you're going to go to to configure your Azure Site Recovery services infrastructure."
   ]
  },
  {
   "cell_type": "markdown",
   "metadata": {
    "vscode": {
     "languageId": "plaintext"
    }
   },
   "source": [
    "# Capacity Planning Considerations"
   ]
  },
  {
   "cell_type": "markdown",
   "metadata": {},
   "source": [
    "![](https://storage.googleapis.com/agungwahyudi-public-files/design_site_recovery_azure-2-000006.png)"
   ]
  },
  {
   "cell_type": "markdown",
   "metadata": {},
   "source": [
    "Now that we know what site recovery infrastructure is needed where in the various replication scenarios, now let's take a look at the primary things that you need to be concerned about when it comes to capacity planning with Azure site recovery. As we introduced in the last module, you're going to want to start with the site recovery deployment planner. It's going to give you deep dive information that you need to know about the capacity planning for your Azure site recovery based system. It's going to surface the resources that you need both in Azure and on‑premises. The deployment planner will also tell you the amount of bandwidth needed for replication traffic from on‑prem into Azure, which is a very important input to meeting your recovery point objectives. Now, if you're protecting VMware or physical servers with Azure set recovery, you're going to need some on‑premises infrastructure, configuration service for orchestrating events, and a process server which is used for sending the actual replication data into Azure. Well, the deployment planner is going to give you some insight on the number of servers that you're going to need based on your workloads. These are the core components that you'll need to be concerned about when it comes to capacity planning inside of Azure site recovery. Now, the next part of this module, we're going to dig into each one of these elements in much more detail."
   ]
  },
  {
   "cell_type": "markdown",
   "metadata": {},
   "source": [
    "![](https://storage.googleapis.com/agungwahyudi-public-files/design_site_recovery_azure-2-000007.png)"
   ]
  },
  {
   "cell_type": "markdown",
   "metadata": {},
   "source": [
    "On the replication traffic side of things, the core thing that we need to focus on is the data change rate. As data is being changed on the protected systems, that change data is going to be sent over the network to the process server in VMware or physical server scenarios, then onto Azure over the internet. In the Hyper‑V scenario, replication data is going to be sent from the Hyper‑V host by the Site Recovery Service's agent and then onto Azure. So we're going to need to ensure that there is enough throughput on the network to support that replication so that we can keep our systems within the recovery point objectives set by our organizations. The deployment planner is going to help you identify how much is needed. If data changes too quickly or the replication is blocked due to an internet outage, it will queue locally and then be uploaded as the network allows. If too much change data queues locally, replication will fall behind and you might not have the latest data inside of Azure and potentially could miss your recovery point objectives and lose data in a failover event, and so you'll want to ensure that you are monitoring and alerting for this. For more information on monitoring and configuring alerting for your replication health, check out this link here. We'll discuss more specific monitoring data points of the process server later on in this module. Azure site recovery gives you tools to control throughput so that you don't saturate your network. You can throttle network traffic in two configurable ways, the amount of throughput consumed and also the time of day. Network throttling is particularly useful during the initial uploading of data in to Azure so that you don't saturate your network, sending the largest amount of data into Azure during that initial replication seating. For more implementation details on network throttling, check out this link here. And finally, when sizing replication traffic, storage account types and limits can come into play when working with change data that is replicated to Azure disks. So when provisioning systems, ensure that the IOP workloads generate it by the protected systems land in storage accounts and storage account types that can support that workload in terms of IOPS and throughput."
   ]
  },
  {
   "cell_type": "markdown",
   "metadata": {},
   "source": [
    "![](https://storage.googleapis.com/agungwahyudi-public-files/design_site_recovery_azure-2-000008.png)"
   ]
  },
  {
   "cell_type": "markdown",
   "metadata": {},
   "source": [
    "Let's look more closely at the configuration server used in VMware and physical machine replication scenarios. The configuration server has the responsibility of orchestrating events between on‑premises protected machines and Azure site recovery. A single configuration server with a process server co‑located on the same system can handle up to 200 protected machines or 2 TB of change data per day. If you need to support greater than 200 protected systems, add an additional configuration server to your environment. This also adds an additional process server so you expand the capacity of both components there. If your change data is greater than 2 TB in a day and you have less than 200 protected machines, you can run a single configuration server and scale out by adding an additional process server to account for that additional change data, it's important to note that protected systems are only managed by one process server, so this puts a limit on the amount of change data a single protected system can generate in 1 day to 2 TB.\n",
    "\n",
    "For more information on sizing requirements of these systems, check out this link here. Here, you'll find the sizing information for the resources needed for the configuration server in terms of CPU, disk, and memory based on the number of protected machines in your environment. As you increase the number of protected machines, you'll increase CPU, disk, and memory up until those 2 key capacity limits that we just referenced above, 200 protected systems or 2 TB of change data in a day. At that point, you'll add additional configuration or process servers to manage those additional protected machines or additional change data."
   ]
  },
  {
   "cell_type": "markdown",
   "metadata": {},
   "source": [
    "![](https://storage.googleapis.com/agungwahyudi-public-files/design_site_recovery_azure-2-000009.png)"
   ]
  },
  {
   "cell_type": "markdown",
   "metadata": {},
   "source": [
    "The process server has the responsibility of data synchronization in Azure site recovery, it receives replication data from the protected systems where it caches it, compresses it, encrypts it, and then sends that change in on into Azure. The process server must have sufficient resources to perform these tasks. As previously discussed, the first process server is installed by default on the configuration server. You can deploy additional process servers to scale out your environment. You want to add an additional process server if your change data rate exceeds 2 TB per day. Now, in those scenarios where you exceed 200 protected machines, you'll add an additional configuration server, which also will add an additional process server expanding the capacity of both components. The process server uses a disk‑based cache, and so you'll want to provision a separate disc of 600 GB or more to handle the data changes that are stored locally on the process server if a network bottleneck or outage occurs, so essentially caching that data locally until the network allows for it to be replicated out into Azure. Now, from a system sizing perspective, check out this link here. Here you'll find recommendations on the system resources in terms of CPU, disk, and RAM needed to support replication based on the number of protected machines. And last, but certainly not least, is monitoring. You'll want to monitor the process server closely as it's responsible for data replication, and if it falls behind, data will queue on the process server. This means that data in Azure is not in sync with what you have on‑premises, and if you failover, you might lose data and not meet your recovery point objectives. And so you want to ensure that the process server is keeping up, and if it isn't, you want to know about it and engineer a solution so that it can keep up. Check out this link here for more information on what to monitor and where to configure alerts."
   ]
  },
  {
   "cell_type": "markdown",
   "metadata": {
    "vscode": {
     "languageId": "plaintext"
    }
   },
   "source": [
    "# Working with Replication Policies"
   ]
  },
  {
   "cell_type": "markdown",
   "metadata": {},
   "source": [
    "![](https://storage.googleapis.com/agungwahyudi-public-files/design_site_recovery_azure-2-000010.png)"
   ]
  },
  {
   "cell_type": "markdown",
   "metadata": {},
   "source": [
    "So now that we're finished learning about Site Recovery infrastructure, the next topic is to define how we want to protect our data and how often, and we do that with replication policies. A replication policy is defined by several key elements, and let's look at each of those now. The first element in a replication policy is the source. This is where we're going to find the source environment, so that's going to be things like Azure, Hyper‑V, VMware, or physical machines. Then we'll define a target. This is basically where we're going to replicate those protected machines to. It could be Azure if we're replicating to Azure, or also, it could be Hyper‑V if we're replicating between two on‑premises Hyper‑V sites. Next up is copy frequency. In the Hyper‑V replication scenario, this defines how frequently data is synchronized between the source and the target locations. Currently, your options are 30 seconds and 5 minutes. For Azure virtual machines, VMware virtual machines, and physical servers, copy frequency isn't relevant here. Replication is continuous. There's recovery point retention in ours. This specifies how long Azure Site Recovery will keep your snapshots available inside of Azure. Your recovery points are created from snapshots of the virtual machine disks inside of Azure. And now there are two different types of snapshots that can be taken. A crash‑consistent snapshot gives you a recovery point generated every 5 minutes, and the setting can't be changed. A crash‑consistent snapshot is the same as if you pulled the plug on a server and then went ahead and plugged it back in. The application isn't aware of what happened, but most modern applications can recover appropriately in this scenario, but there is no guarantees that you won't have corruption or lose data. Application‑consistent recovery points are generated according to the setting specified in the replication policy, and so it will define an application‑consistent snapshot frequency. This defines the frequency of application‑consistent snapshots for protected machines. Application‑consistent snapshots used the Volume Shadow Copy Service to ensure consistency at the application level."
   ]
  },
  {
   "cell_type": "markdown",
   "metadata": {
    "vscode": {
     "languageId": "plaintext"
    }
   },
   "source": [
    "# Configuring Your Site Recovery Infrastructure"
   ]
  },
  {
   "cell_type": "markdown",
   "metadata": {},
   "source": [
    "![](https://storage.googleapis.com/agungwahyudi-public-files/design_site_recovery_azure-2-000011.png)"
   ]
  },
  {
   "cell_type": "markdown",
   "metadata": {},
   "source": [
    "Now that we've learned about the required Site Recovery service infrastructure in the various replication scenarios, how to scale it and also what a replication policy is, let's bring it all together and learn the steps needed to protect some systems with Azure Site Recovery. The high‑level process to synchronize resources into Azure Site Recovery has three steps. You're going to register some server infrastructure. This will connect your on‑premises resources with your Azure Site Recovery service's vault, enabling you to apply configuration to those systems that you want to protect with ASR. So if you're using Hyper‑V, you're going to register your Hyper‑V hosts or your VMM servers. And if you're using VMware or physical systems, it's going to be your configuration server. Once registered, you'll define some replication policies. You'll set source and target environments, establish recovery policies, and also application‑consistent snapshots. And then finally, you'll enable protection. This defines which systems you want replicated from on‑prem into Azure, defining the operating system type and also the disk topology, allowing you to select which disks you want to replicate into Azure. You'll define a target storage accountant and also target virtual network."
   ]
  },
  {
   "cell_type": "markdown",
   "metadata": {
    "vscode": {
     "languageId": "plaintext"
    }
   },
   "source": [
    "# Demo: Registering Server Infrastructure with Your Vault"
   ]
  },
  {
   "cell_type": "markdown",
   "metadata": {},
   "source": [
    "![](https://storage.googleapis.com/agungwahyudi-public-files/design_site_recovery_azure-2-000012.png)"
   ]
  },
  {
   "cell_type": "markdown",
   "metadata": {},
   "source": [
    "All right, so let's get into a demo and apply those three core steps in this demonstration. We're going to start off with registering server infrastructure with our Azure Site Recovery services vault. I haven't on‑premises Hyper‑V host that we're going to register inside of ASR. Then we're going to work with some replication policies, defining how we want replication to occur for that particular Hyper‑V site. Then, we're going to enable some virtual machine protection to a collection of on‑premises virtual machines. All right, so here we are in the Azure portal with our Azure Site Recovery services vault open. And what we're going to do in this first part of this demonstration is we're going to register some on‑premises infrastructure into our Azure Site Recovery services vault. And I have an on‑premises Hyper‑V server up and running with two virtual machines up and running on that particular host, and we're going to protect those in our Azure Site Recovery services vault. Now the first thing that we need to do is we need to install the Azure Site Recovery services provider and agent onto that host and then register that host with our Azure Site Recovery services vault. Now if we go down here to Site Recovery infrastructure and click this and scroll down to the bottom, since this is going to be a Hyper‑V host, we'll click on Hyper‑V Hosts. Now to add a server like we did in the previous demo, we clicked on add server here, and we have the steps that we need to go through. Recall we downloaded the Azure Site Recovery provider in step 3 in the previous demonstration, and we also downloaded that vault registration key. So let's go ahead and switch over to my local on‑premises Hyper‑V host. So here we are on my Hyper‑V host. And on the desktop here, I have the Azure Site Recovery service provider, and I also have my vault registration key. And so let's begin the installation process of our Azure Site Recovery service provider. So if we go ahead and right‑click on this and do Run as administrator, that's going to launch the installation wizard for the Azure Site Recovery services provider. Now let's go ahead and select On, which is recommended to use Microsoft Update to check for updates to the software and then click Next. Let's go ahead and use the defaults, and we'll click Install. And so there we can see Installing Azure Site Recovery Services Agent. Now recall, in the Hyper‑V host scenario, we're going to get both the Azure Site Recovery services agent and also the provider on the same host. And so now with that installation complete, let's go ahead and click Register to register this particular host with our Azure Site Recovery services vault. So it's going to bring us up to this screen here, and it's going to ask us for the vault registration key file. So let's go ahead and use Browse. Click over on Desktop and grab that file that we downloaded from our site recovery services vault. And so that's going to pre‑populate the information that we need defined in our subscription, our vault name, and also the Hyper‑V site name that this particular host is going to be registered to. So let's go ahead and click Next. And what it's asking us here is do we have direct connectivity to the internet? Do I need to configure a proxy server or do I not? And In my case, I do not need a proxy server, so I'm going to go ahead and click Next. And it's going to go ahead and start the process of registering this particular Hyper‑V host with our site recovery services vault in that particular Hyper‑V site. All right, so here we see that the server was registered successfully with the Azure Site Recovery services vault. So let's go ahead and click Finish here and swing on over back into the Azure portal. So at the Add Server screen now, we don't have anything left to do here, so let's go ahead and close out of this. And here on the main server screen now for Hyper‑V hosts, we see we have our on‑premises Hyper‑V server listed as a registered server. So there we see server name, which is HyperV1. Connection status connected, last time there was a heartbeat, the current agent version, and then the type of server on prem, which is Hyper‑V server. And so that's that server registration element that gets our on‑premises server registered into are Azure Site Recovery services vault. We installed the Azure Site Recovery services provider and agent on our local Hyper‑V host, and then we registered that into our Hyper‑V site."
   ]
  },
  {
   "cell_type": "markdown",
   "metadata": {
    "vscode": {
     "languageId": "plaintext"
    }
   },
   "source": [
    "# Demo: Configuring a Replication Policy"
   ]
  },
  {
   "cell_type": "markdown",
   "metadata": {
    "vscode": {
     "languageId": "plaintext"
    }
   },
   "source": [
    "So now step 2 of the process of protecting some on‑premises resources is configuring a replication policy, and so let's go ahead and do that together. So for Hyper‑V sites, because that's the scenario that we're working through together here, let's go ahead and select Replication policies. And we don't have any replication policies yet configured for this replication scenario. Earlier in the course, we looked at an Azure virtual machine replication, and we did have a replication policy defined there. This is for the Hyper‑V replication scenario. So let's go ahead and add a replication policy and go through what we need to add to create a replication policy for our Hyper‑V site. So the first thing that we need to do is give it a name, so I'm going to go ahead and call it HyperVRP. The source type is going to be Hyper‑V, and then the target type is going to be Azure. Scrolling down a little bit, we can see the copy frequency. We have the choice of 30 seconds or 5 minutes. Going down through the next option, we have recovery point retention in hours. This is how long our recovery points are going to be retained inside of Azure. By default, it's 2, and we have the ability to go from 0 to 24 if needed. Moving forward, we have application‑consistent snapshot frequency. The default value is 1, and we have the ability to select a value between 0 and 12. If we select 0, that's going to disable our application‑consistent snapshots. Now the final configuration element is initial replication start time. The initial replication start time gives us the ability to say do we want to start replication now or at some time in the future for machines protected by this particular replication policy? So let's go ahead and click OK to create this replication policy for our Hyper‑V site. Now once our screen refreshes, we see our replication policy in the list of replication policies for Hyper‑V sites. And so there we see the name HyperVRP, source type is Hyper‑V, target is Azure, and its current status is not in use, and so let's go ahead and fix that. Let's click on the policy itself. And what we're going to do here is we're going to associate this policy with the Hyper‑V site. And so we'll go ahead and click Associate Hyper‑V site, and that's going to give us the ability to select the Hyper‑V site that we want to associate with this particular policy. And we created this Hyper‑V site in an earlier demonstration in this module. So let's go ahead and select that there. Go ahead and click OK. And now we can go ahead and start the process of enabling virtual machine protections for VMs in this site."
   ]
  },
  {
   "cell_type": "markdown",
   "metadata": {
    "vscode": {
     "languageId": "plaintext"
    }
   },
   "source": [
    "# Demo: Enabling Virtual Machine Protection"
   ]
  },
  {
   "cell_type": "markdown",
   "metadata": {
    "vscode": {
     "languageId": "plaintext"
    }
   },
   "source": [
    "And so let's kind of review where we are right now. What we've done so far is we created a Hyper‑V site in an earlier demonstration. And then in this demonstration, we registered a Hyper‑V host to that site. Then we created a replication policy and associated that replication policy to a particular Hyper‑V site. And so now we can leverage that replication policy to start protecting virtual machines at that Hyper‑V site. And so let's go ahead and do that process now. We're going to enable virtual machine protection for some on‑premises Hyper‑V VMs. So I do want to call out now that I have some infrastructure set up on my on‑premises system. So we have that Hyper‑V server that we've been working with so far. And on that Hyper‑V server, I've created two virtual machines, FileServer1 and WebServer1, and those are the VMs that we're going to protect. And so let's go ahead and start that process now. Now from our Replication policy screen, we want to head back over to the main overview page of our Azure Site Recovery services vault. So let's go up here to the search bar and type in our recovery services vault name, so ASR vault, and select that from the list. So from here, we go ahead and select Replicate because this is going to be where we kind of bring it all together to replicate our on‑premises VMs into Azure. And so let's start that process. So here we see source, on‑premises. So we have the choice of Azure on‑prem. In our earlier demonstration, we chose Azure. Let's go ahead and select on‑prem because we're bringing those Hyper‑V VMs from on premises into Azure. Am I performing a migration? We have the choice of yes or no. In this case, I'm not going to be performing a migration. But if I do select Yes here, it's going to give me a reminder to use the Azure Migrate Service as a replacement for using Azure Site Recovery to perform migrations. So let's go ahead and go back to no because that's what I want to use for this particular case. I'm not migrating these VMs because in the future module we're going to fail these over and fail back. So that source location, where are they coming from, is going to come from our Hyper‑V site. And so there's our Hyper‑V site in that list. Let's go ahead and click OK and walk through the target configuration. So now this is going to be where these virtual machines are going to land inside of Azure. So our subscription is going to be demonstration account, and our post‑failover resource group is going to be DR, which has been the resource group that we're building all of our DR resources in. Our post‑failover deployment model is going to stay resource manager. We have the choice of using classic if we need to. Now for our target resources, we need both a storage account for our disks, and we also need a storage account for cache. And I've precreated two storage accounts for that. So there we see psdemoasr for Azure Site Recovery and then pdemoasrcache. And so I went ahead and precreated those, and here they are in our configuration. Now from a networking standpoint, let's go ahead and click the drop‑down box here. We're going to select Configure now for selected virtual machines. And so that's going to give us the ability to select a post‑failover network. And so let's go ahead and do that together. Now these virtual machines, I'm going to have them failover to our AppServer's VNet ASR virtual network. And so let's go ahead and select that there. Go down a little bit further, it's going to give us the option to select a subnet, and let's go ahead and select our AppServer subnet. Now with that, we have kind of all the core elements of where our virtual machines are going to failover into, right? They're going to failover into the DR resource group. They're going to use the psdemoasr storage account and also the psdemoasr storage account cache for the replication cache. Then we have defined our Azure network. It's going to land in the VNet AppServer VNet ASR. So let's go ahead and click OK. And so now with our on‑premises registered Hyper‑V host exchanging its configuration information via the Azure Site Recovery services provider, we see the virtual machines that are running in my on‑premises data center available inside of Azure. And so I have two VMs. There's WebServer1 and WebServer2. And so let's go ahead and check those because I want to protect both of those virtual machines together in our Azure Site Recovery services configuration. Let's go ahead and click OK. And it brings up the Configure properties screen. And so now it's up to me to give Azure a little bit more information about these virtual machines. And so I have the opportunity to choose an operating system, and so these are both Windows virtual machines. I'm going to go ahead and select those there. I could then also have the ability, if there were multiple disks, I could select a disk topology configuration here. But in this case, each of these virtual machines has a very simple disk configuration of just one OS disk. Let's go ahead and click OK to the Configure properties screen, and here we are at the screen to configure the replication policy settings. If I had more than one replication policy, I would have the ability to choose that here. But in this case, I have only one replication policy, the one that we just created together in an earlier part of this demonstration. So there we see HyperVRP for replication policy and all of the configuration settings associated with that. Let's go ahead and click OK here. And with that, we have all of the configuration information to enable replication. We defined the source, which is our Hyper‑V site. We defined the target and its configuration, which is going to be Azure. We selected our virtual machines. We configured the properties for the individual virtual machines by selecting the OS and the disk topology. And then we also configured the replication policy settings, which is our HyperVRP replication policy. And so with all of that, now I can click Enable replication. Now with replication enabled, what's going to happen is our on‑premises Hyper‑V host is going to take that initial snapshot of the local virtual machines and begin uploading those snapshots to Azure. And so let's check on that now."
   ]
  },
  {
   "cell_type": "markdown",
   "metadata": {
    "vscode": {
     "languageId": "plaintext"
    }
   },
   "source": [
    "# Demo: Exploring Replication Status and Health"
   ]
  },
  {
   "cell_type": "markdown",
   "metadata": {
    "vscode": {
     "languageId": "plaintext"
    }
   },
   "source": [
    "So if we jump over back onto our on‑premises Hyper‑V server and we look at the status of the virtual machines, we have some interesting information going on right now. So I have FileServer1 selected and at the bottom there, we can see that a checkpoint has been taken and that it's sending an initial replica. So if we look here in checkpoints, we see that information there. But also in the status column for the individual virtual machines, we see sending initial replica. And so that's taking that checkpoint and then uploading that data into Azure via Azure Site Recovery. If I right‑click on the virtual machine, I can go to Replication, and I can view replication health. And so some very useful information is in here when I want to look at what's going on inside of my Azure Site Recovery replication for my Hyper‑V virtual machines. And so there we see replication state, initial replication in progress. Replication health is normal, it's able to communicate, and it's starting that process of uploading our data. And so this will take a little bit. We can see that in the time that we've been doing this demonstration, it's gotten up to 3%. And it's going to send that information into Azure as fast as it can. If you want to kind of get a peek at that, let's go ahead and check out our task manager and look at performance. And we can see here that the throughput for this particular virtual machine replication is uploading at about 430MB a second, so it's moving pretty quickly. And so I want to pause the video here, and I'm going to let this replication finish up, and then we'll come back and check on the status and the health of these replicated virtual machines inside of the Azure Site Recovery services vault. Now back in our recovery services vault, here we are on the overview screen. To check on the status of those replicated items that we just started replicating from on prem, we can click the Site Recovery tab right here, and that's going to bring into view kind of an overview of our Azure Site Recovery service. And so let's scroll down a little bit the bring this into view, and the first thing that we see here is that we have three replicated items that have a status of healthy. Now in this particular demonstration, we've replicated two on‑premises Hyper‑V virtual machines into Azure. That third virtual machine is the Azure VM that we started replicating in a previous demonstration. And so we kind of get an overview of all of our replication in this particular view. Now if I click on Healthy, I'll see the replicated items. We have our AppServer1, which is our Azure virtual machine that's being replicated from Central US into the East US region. And so walking through that particular line there, we see the name, AppServer1. We have replication health healthy. Its current status is protected. Active location Central US. Successful failover test. There we have a warning being called out. So we can see that we've never successfully performed a failover test. Now we're going to do that in an upcoming demonstration, and so let's hang on to that there. There's currently no replication errors for AppServer1 as well. The next two lines cover the Hyper‑V site that we're replicating those two VMs from on premises, so WebServer1 and FileServer1. And the active location for that is the Hyper‑V site named HyperVSite. Now when you're configuring replication for the first time, you really want to keep an eye on that status column. Right now it's says protected. But the other possible options for that are going to be enabling protection or initial replication in progress. And so we're going to keep an eye on that as we're working through this configuration to make sure that were in the correct statuses and our virtual machines eventually become protected. Now, going back to the main ASR vault overview screen, let's go ahead and scroll down a little bit further. I want you another way to get this information. So underneath protected items, we can click on Replicated items. And this is kind of the core view of what's going on inside of Azure Site Recovery. We're kind of getting a full view of what's being replicated by this particular ASR vault. And so it's a very good place to look for that additional information. Back on the Overview screen one more time and bring into view this map down here. And so towards the bottom of the Overview page, we'll see the infrastructure view. And so right now, we're on the tab for Azure virtual machines. And we can get a view of all of the VMs that are protected by this particular ASR vault, so a good overview screen here. Next up, go over to the Hyper‑V tab since we are doing some Hyper‑V replication. And there we see our topology, our two on‑premises virtual machines being replicated into our Azure Site Recovery recovery services vault. And from that diagram view, I can click over and change the view into this table view and getting overview information about the health and status of my current replication. This is the Hyper‑V screen. If we flip on over to the Azure VMs, we'll see that topology in a table view as well. So good information available there. And so that's a wrap for this demo. But the key to this demonstration is we covered the basic process of going through and how we register on‑premises infrastructure in our vault, work with replication policies and creating those inside of our ASR vault and assigning those to a particular site, and then enabling virtual machine protection for some on‑premises Hyper‑V virtual machines."
   ]
  },
  {
   "cell_type": "markdown",
   "metadata": {
    "vscode": {
     "languageId": "plaintext"
    }
   },
   "source": [
    "# Module Review and What's Next!"
   ]
  },
  {
   "cell_type": "markdown",
   "metadata": {},
   "source": [
    "![](https://storage.googleapis.com/agungwahyudi-public-files/design_site_recovery_azure-2-000013.png)"
   ]
  },
  {
   "cell_type": "markdown",
   "metadata": {},
   "source": [
    "All right, so here we are at the end of our module. And we started off with an overview of site recovery infrastructure, looking at the various site recovery infrastructure that's required for the Azure Site Recovery‑supported replication scenarios. Then we got into capacity planning considerations and what you need to take into account when designing your systems on premises to ensure that your data gets replicated into Azure Site Recovery to meet your recovery point objectives. And then, we looked at the implementation of our recovery point objectives with replication policies and looked at each of the key elements that can go into constructing our replication policy. And then we wrapped it up with a big demo, bringing all of those elements together and enabled virtual machine protection for some on‑premises Hyper‑V virtual machines. All right, well, that's a wrap for this module. Join me in the next module, Identifying Site Recovery Resources."
   ]
  }
 ],
 "metadata": {
  "language_info": {
   "name": "python"
  }
 },
 "nbformat": 4,
 "nbformat_minor": 2
}

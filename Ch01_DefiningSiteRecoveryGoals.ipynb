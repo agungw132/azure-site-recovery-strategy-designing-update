{
 "cells": [
  {
   "cell_type": "markdown",
   "metadata": {},
   "source": [
    "# Course Overview"
   ]
  },
  {
   "cell_type": "markdown",
   "metadata": {
    "vscode": {
     "languageId": "plaintext"
    }
   },
   "source": [
    "Hi, everyone. My name is Anthony Nocentino, enterprise architect and founder of Centino Systems. Welcome to my course, Designing a Site Recovery Strategy on Microsoft Azure. Are you a systems administrator or architect that needs to design a disaster recovery or business continuity strategy for your organization? If so, then this is the course for you. In this course, we'll take a look at the design considerations you should keep in mind when planning to deploy Azure Site Recovery. To get started, we'll look at defining your site recovery goals, and we'll explore the basics of the site recovery service, and then we'll look at the various options you have when it comes to protecting Azure VMware and Hyper‑V virtual machines, as well as physical servers. Next, we'll move on to designing your site recovery infrastructure where you'll learn about the components that you need to deploy in order to enable site recovery for your own organization. Throughout the rest of the course, we'll take a look at the various operating systems and workloads that you can replicate and migrate to Azure using the site recovery service, and then we'll dive into the considerations that you need to keep in mind when it comes to designing a site recovery failover strategy with Microsoft Azure. And so if you're brand new to Azure Site Recovery and you need to get started designing your own disaster recovery and business continuity strategy with Microsoft Azure, then this is the course for you. Before beginning this course, you should be familiar with core Azure concepts like resource groups, Azure networking, and virtual machine deployment. I hope you'll join me on this journey to learn how to design and implement a disaster recovery and business continuity strategy in Azure in the course Designing a Site Recovery Strategy on Microsoft Azure here, at Pluralsight."
   ]
  },
  {
   "cell_type": "markdown",
   "metadata": {
    "vscode": {
     "languageId": "plaintext"
    }
   },
   "source": [
    "# Introduction, Course and Module Overview"
   ]
  },
  {
   "cell_type": "markdown",
   "metadata": {},
   "source": [
    "![](https://storage.googleapis.com/agungwahyudi-public-files/design_site_recovery_azure-1-000002.png)"
   ]
  },
  {
   "cell_type": "markdown",
   "metadata": {},
   "source": [
    "Hello. This is Anthony Nocentino with Centino Systems. Welcome to my course, Designing a Site Recovery Strategy on Microsoft Azure. This module is Defining Site Recovery Goals. In this module, we'll introduce Azure Site Recovery, how it works, and look closely at replication scenarios for workloads in Azure, VMware in physical machines, and Hyper‑V. We'll also look at leveraging existing HA/DR options in your applications and finish things off with a close look at the Azure Site Recovery Deployment Planner.\n",
    "\n",
    "Let's kick this module off with our course overview. In this module, we'll start our journey by looking at what Azure Site Recovery is and how it works in the module Designing Site Recovery Goals. We'll learn the different replication scenarios and when and where we can use Azure Site Recovery. In the next module, we'll look at what it takes to build and use Azure Site Recovery, what components are needed and how to deploy them in the module Designing and Implementing Site Recovery Infrastructure. Then, once we have everything up and running, we'll look more closely at the types of operating systems and workloads that we can protect with Azure Site Recovery in the module Identifying Site Recovery Resources. And in the final module, we'll look at how we can failover and failback our workloads into Azure with Azure Site Recovery in the module Designing Site Failover Strategy."
   ]
  },
  {
   "cell_type": "markdown",
   "metadata": {},
   "source": [
    "![](https://storage.googleapis.com/agungwahyudi-public-files/design_site_recovery_azure-1-000003.png)"
   ]
  },
  {
   "cell_type": "markdown",
   "metadata": {},
   "source": [
    "Now let's look more closely at what we're going to cover in this module. We will begin with how site recovery works and the value it provides to your business‑critical workloads. Next, we'll look at architectures for replicating different types of workloads, Azure VMs, VMware VMs, physical machines, and also Hyper‑V virtual machines. After that, well sometimes we can leverage our applications' existing HA/DR options rather than Azure Site Recovery to ensure that our workloads are highly available. We'll look at some common scenarios where that is the case. And we'll wrap up the module with looking at how we can use the Azure Site Recovery Deployment Planner to help us analyze our existing infrastructure and give us a tremendous insight into how we can leverage Azure Site Recovery for our workloads."
   ]
  },
  {
   "cell_type": "markdown",
   "metadata": {
    "vscode": {
     "languageId": "plaintext"
    }
   },
   "source": [
    "# How the Site Recovery Service Works"
   ]
  },
  {
   "cell_type": "markdown",
   "metadata": {},
   "source": [
    "![](https://storage.googleapis.com/agungwahyudi-public-files/design_site_recovery_azure-1-000004.png)"
   ]
  },
  {
   "cell_type": "markdown",
   "metadata": {},
   "source": [
    "Let's start the course off with a high‑level overview of Azure Site Recovery and how it works. Using Azure Site Recovery, you can set up and manage replication, failover, and failback from a single location inside of the Azure portal, providing business continuity and disaster recovery for your workloads. Azure Site Recovery will replicate virtual machines between regions and also replicate on‑premises virtual machines and physical machines into Azure or between on‑premises data centers.\n",
    "\n",
    "Azure Site Recovery provides continuous replication for Azure VMs and VMware VMs and replication frequencies as low as 30 seconds for Hyper‑V virtual machines.\n",
    "\n",
    "Azure Site Recovery replicates recovery points with application consistent Volume Shadow Copy Service based Snapshots. App‑consistent snapshots capture disc data, all data in memory in transactions in process in an application‑consistent way. There's also crash‑consistent snapshots, and we'll explore those scenarios later on in the course.\n",
    "\n",
    "In Azure Site Recovery, you have the ability for flexible failovers. What this means is you could run planned failovers for expected outages with zero data loss or unplanned failovers with minimal data loss, depending on your replication frequency. Then, when your primary site is back online, you can fail your workloads back over to the original location. Azure Site Recovery also gives you the ability to run test failovers so that you can ensure that the workloads you want to start up actually do start up in Azure or in your secondary on‑premises data centers.\n",
    "\n",
    "The next feature in Azure Site Recovery that I want to introduce you to is recovery plans. Recovery plans allow you to customize, in sequence, the failover in recovery of multi‑tier applications running on multiple protected systems. You group systems together in a recovery plan and optionally can add scripts and manual actions to be executed during a failover. In my experiences, this is one of the hero features of Azure Site Recovery, as you'll have coordinated snapshots and failovers of servers that have hard application dependencies on each other. Azure Site Recovery enables them to be snapshot and restored as a group so that your applications stay consistent. Adding script execution then allows you to make any final configuration changes in code to your environment, adding consistency and speed to your failovers.\n",
    "\n",
    "And the final Site Recovery feature that I want to introduce you to today is Azure Automation integration. This, too, is a very powerful and compelling set of features enabling automation and code reuse in your recovery plans, and we'll talk much more about how these work later, but for now, we have a pretty good idea of the understanding about some of the key features and capabilities of the Site Recovery service, so let's move on and start looking at the different replication options that are available to us inside of Azure Site Recovery to protect our workloads."
   ]
  },
  {
   "cell_type": "markdown",
   "metadata": {},
   "source": [
    "![](https://storage.googleapis.com/agungwahyudi-public-files/design_site_recovery_azure-1-000005.png)"
   ]
  },
  {
   "cell_type": "markdown",
   "metadata": {},
   "source": [
    "Now the core focus of Azure Site Recovery is disaster recovery, getting workloads replicated between regions in Azure from on‑premises into Azure or between on‑premises data centers, but another core use case for Site Recovery is migration. Since the systems are being replicated into Azure, well, what if you just replicated your workloads into Azure, started them up inside of Azure and just left him there? This is a very viable technique for migrating existing workloads into Azure quickly and easily. But as with all things technology, things move fast, and Microsoft has given us another Azure service called Azure Migrate, which is solely focused on migrating workloads into Azure. The tooling is built to give you a centralized hub to assess and migrate on‑premises servers, applications, and data into Azure. Check out this link here for more information on Azure Migrate. For today's course, we're going to be focused on the DR side of things, so let's keep moving forward there."
   ]
  },
  {
   "cell_type": "markdown",
   "metadata": {},
   "source": [
    "![](https://storage.googleapis.com/agungwahyudi-public-files/design_site_recovery_azure-1-000006.png)"
   ]
  },
  {
   "cell_type": "markdown",
   "metadata": {},
   "source": [
    "Now that we know the core capabilities of Azure Site Recovery, let's look more closely at the types of workloads that we can protect with Azure Site Recovery. Using Site Recovery, you can replicate Azure virtual machines from one region to another, and this is a very slick, integrated solution inside of Azure with minimal configuration and infrastructure requirements. Next, you could replicate on‑premises systems into Azure, including VMware virtual machines, physical servers, and Hyper‑V virtual machines. In addition to replicating systems into Azure, you can also replicate on‑premises Hyper‑V virtual machines managed by System Center Virtual Machine Manager to a secondary on‑premises data center using Azure Site Recovery to orchestrate the disaster recovery between your on‑premises sites. Now we're going to look much more closely at each of these architectures in this module and throughout the course. One of the most enabling features of Azure Site Recovery is that it can replicate workloads independent of the application, which is key because you can replicate nearly any kind of workload into Azure for DR or migration purposes. You're able to replicate any workload running on a machine or a system that's supported for replication, and we'll look at what's supported very closely in the module identifying Site Recovery resources."
   ]
  },
  {
   "cell_type": "markdown",
   "metadata": {
    "vscode": {
     "languageId": "plaintext"
    }
   },
   "source": [
    "# Replicating Azure Virtual Machines"
   ]
  },
  {
   "cell_type": "markdown",
   "metadata": {},
   "source": [
    "![](https://storage.googleapis.com/agungwahyudi-public-files/design_site_recovery_azure-1-000007.png)"
   ]
  },
  {
   "cell_type": "markdown",
   "metadata": {},
   "source": [
    "Now, let's look more closely at the first type of workload that we can protect with Azure Site Recovery, and that's replicating Azure virtual machines between regions. Here, we'll walk through all of the components of a Site Recovery architecture for Azure virtual machines, how replication works, and also how failover works. Now, let's say we want to protect a workload that's up and running in a region inside of Azure. In this case, our source environment is the Central US. In that region, we will have defined a VNet and a subnet. Now on that subnet, we'll have a collection of virtual machines, and if these virtual machines need to be protected by an availability set, we can have that configuration as well. And so, let's say we wanted to protect this workload. Now, the first thing that we want to do is make sure that these virtual machines are Azure‑supported operating systems in one of the regions that support Azure Site Recovery. And later on in the course, in the module Identifying Site Recovery Resources, we'll dig into those details. Now on these virtual machines, we need the Site Recovery Extension Mobility Service. This service integrates with Azure Site Recovery to register the virtual machine and orchestrate the failover of the virtual machines when needed. This extension is installed when we enable protection on the virtual machine in Site Recovery. Now, each of these virtual machines will also have some disks associated with it, and these disks can be either managed or unmanaged disks. Now in the same region as the virtual machines that we want to protect, in our example here at the Central US, we'll have a cache data storage account, which is a local storage account used to cache data prior to replication to ensure minimal performance impact on the applications running inside of the protected virtual machines. So as blocked data is changed inside the source virtual machine and its disks, that changed data that's to be replicated is written here before it's replicated to the target region in our Azure Site Recovery architecture. Now in our target environment, we'll also have a VNet and a subnet, and this is going to be used by the replicated virtual machines on failover. If there's an availability set defined in our source environment's configuration, it's going to exist in the target environment as well. The disks from the source environment are going to be replicated into the target environment. If they're unmanaged disks, you'll need to define a storage account in the target environment. If they're managed disks, they'll be replicated to that target region for you. Now, any of these target resources can be pre‑created by you, the administrator, or created automatically for you by the Azure Site Recovery wizard. So now that we know the architecture, let's see it in action and dive into the replication process. The Site Recovery Extension Mobility service is automatically installed on the virtual machine when ASR is enabled, and the extension registers that virtual machine with the Azure Site Recovery service. And then the disks are replicated to the target region. Then, once those disks are finished replicating to the target region, then continuous replication begins for the virtual machine, and any disk writes for the virtual machine are also copied to that cache data storage account in the source region for low‑latency response. And then the Site Recovery service processes the data in the cache, and it sends that data to the target storage account if you're using unmanaged disks, or directly to the replicated managed disks. And for our examples in this course, we will be using managed disks. Now, during replication, crash consistent recovery points are generated every 5 minutes, and application consistent recovery points are generated according to the settings specified in the replication policy. And we'll learn much more about replication policy settings in the module, Designing and Implementing Set Recovery Infrastructure. Now, let's say that there's a failure in our source environment and we initiate a failover to our target environment. Let's walk through that process now. The first thing that happens is replication on the source environment is stopped if it's still going, and the virtual machines are then brought online in the target environment and attached to the replicated disks in that region, which in this example is East US. And then once the VMs are up and running, our applications should be online and running and ready for access in that target region. Now, when it comes to the recovery point of the virtual machines during that failover, well, we have planned and unplanned failovers, and we'll dig into the details of that throughout the course. But essentially, a planned failover will get you zero data loss when those virtual machines come online, and an unplanned failover will get you up to the most recent replicated recovery point in the target region that's available during a failover."
   ]
  },
  {
   "cell_type": "markdown",
   "metadata": {
    "vscode": {
     "languageId": "plaintext"
    }
   },
   "source": [
    "# Demo: Creating a Recovery Services Vault and Enabling Protection for an Azure VM"
   ]
  },
  {
   "cell_type": "markdown",
   "metadata": {},
   "source": [
    "![](https://storage.googleapis.com/agungwahyudi-public-files/design_site_recovery_azure-1-000008.png)"
   ]
  },
  {
   "cell_type": "markdown",
   "metadata": {},
   "source": [
    "Alright, so let's get into a demo and start off with Creating a Recovery Services Vault and Enabling Protection for an Azure Virtual Machine. Now, here we are, logged into the Azure portal, and for the first part of this demonstration, we're going to create a Recovery Services vault in the Azure portal together, and this is where we're going to be able to configure and manage our Site Recovery service. And so let's go and click on Create a resource, and once we're at the Marketplace here, let's go ahead and type in site recovery. Now we'll go and select Backup and Site Recovery, and that'll take us to an overview of the Backup and Site Recovery service. Let's go ahead and click Create here together, to begin the creation of a Recovery Services vault. And so here we see the project details. Now the first thing that we need to specify is the subscription. And so here we see I'm using my Demonstration Account. Now for the resource group, I've gone ahead and pre‑created a resource group called a DR. So let's go ahead and pick that from our drop‑down list here, and we could see that towards the bottom. We'll select that there. Now for our vault name, let's go ahead and type in a vault name together, and I'm going to use ASRVault for our vault name here, and we're going to create it in the East US region. So with that, let's go ahead and click Review and Create and pass the validation, and so there we go ahead and click Create again, and start the deployment of our Azure Recovery Services vault. Now with that vault created, let's go ahead and click Go to resource. Now, here we are on the main overview page of our Recovery Services vault. And for the next part of our demonstration here, we're going to protect an Azure Virtual Machine with our Site Recovery service, and we're going to replicate a virtual machine that I've pre‑created for this demonstration in the Central US region, and we're going to take that virtual machine, enable protection on it, and replicate that to the East US region. Now let's begin that process together. If I click Replicate, that's going to take us to a wizard to help us fill out the required information to enabling replication or protection on that Azure Virtual Machine that I've pre‑created. So the source for this replication is going to be Azure. We do have the option of selecting on‑ premises here if we were to replicate on‑premises VMs into Azure, but we're going to replicate Azure VMs between regions, so let's go ahead and select Azure. Now our source location is going to be Central US. I've pre‑created an individual Windows virtual machine in the Central US region. Now, our deployment model for that VM was Resource Manager, so I'm going to leave that the default setting here, but if I had the classic VM, I have that available to me here as well. The source subscription is still going to be Demonstration Account, and the source resource group is going to AppServers. That's the resource group that I created, the Windows virtual machine that we're going to replicate between regions before this demonstration. So let's go ahead ahead and click OK, and now we have the ability to select the virtual machines that we want to replicate between regions. And so here we see AppServer1, which is that Windows virtual machine that I pre‑created. We also see that it's on a virtual network named AppServer‑vnet. So let's go ahead and check that box and click OK, and the next part of the process is configuring the settings for the target location. So things like the resource groups, networking, configuration, storage, and also availability set configuration in that target region that we want to replicate our virtual machine to. So here we see the target location defaults to East US 2. Let's go ahead and say I wanted to change that to another region, I can do that simply by selecting that region. So here, I'm going to go ahead and select East US. Now, our target subscription is still going to be Demonstration Account, and keep that in that individual subscription. But if I wanted to, I could change or customize my target subscription by clicking this link here. Now, scrolling down a little bit further, we have an overview of the resources that are going to be created as part of this Azure Site Recovery services configuration, and let's walk through each one of these together here. So I haven't pre‑created any of these resources in the target region. I'm going to let the Azure Site Recovery services configuration wizard do that for me. And so here we can see, it's going to create a resource group in that target region. So there we see new in parentheses, AppServers‑asr. That resource group will be created in the target region, which is going to be East US. Additionally, we'll have a target virtual network. So there we see new AppServer.vnet‑asr, which will be created in that target region. Now that cache storage account is going to get created in the source region and that's going to hold and cache our change data before it gets replicated to the target region, which in our case is going to be East US. Now additionally, we have replicated managed disks, and that's going to replicate the storage configuration of the virtual machine that I pre‑created for this demonstration. And in this example, I'm using one individual standard disk inside of that Windows VM. Now, we don't have any availability sets configured in our source region, so here we see target availability sets not applicable. Scrolling down a little bit further, we see Replication Policy, and this is going to define how the virtual machine will be replicated to the target region, when the recovery point retention is going to be, and also the application consistent snapshot frequency. Now we're going to cover this much more in great detail in a later module, so I'm going to leave these configurations default here. And then finally, we have Extension Settings. This allows us to configure how the Site Recovery extension mobility service is deployed to the Azure Virtual Machines protected by Site Recovery. And so if we go ahead and click Show Details here, we have the ability to change the settings from Allow ASR to manage to Manually manage. So if I wanted to manage this deployment process manually, I could. However, I'm going to leave that set as Allow ASR to manage. So let's go ahead and click Create target resources, and that's going to validate our configuration and deploy these ASR resources in the target region, which is East US. So after a few minutes, we'll return back to the screen with our deployment succeeded. And so now, with the resources deployed in our target region, we can select Enable replication to begin the process of protecting that virtual machine. Now, what happens when we click Enable replication, that's going to deploy the virtual machine extension, the site recovery mobility service, onto our virtual machine, and register that virtual machine in the Azure Site Recovery service. It's then going to take an initial snapshot of the virtual machine and begin replicating that data to the target region. Now, we're going to pause the video here, because it's going to take about 20 to 30 minutes for that process to complete, and we'll come back here in a moment."
   ]
  },
  {
   "cell_type": "markdown",
   "metadata": {
    "vscode": {
     "languageId": "plaintext"
    }
   },
   "source": [
    "# Demo: Reviewing Logs, Replication Health and Target Resources"
   ]
  },
  {
   "cell_type": "markdown",
   "metadata": {},
   "source": [
    "![](https://storage.googleapis.com/agungwahyudi-public-files/design_site_recovery_azure-1-000009.png)"
   ]
  },
  {
   "cell_type": "markdown",
   "metadata": {},
   "source": [
    "Alright, so here we are back in the Azure portal and we can see in the Notifications tab here that we've successfully enabled replication for our virtual machine. So let's go ahead and close that out there. And if I go ahead and click on Site Recovery here, we're going to get a dashboard of current state of affairs inside of our recovery services vault for our site recovery service. And so, there we could see replicated items 1 healthy and that's that Windows virtual machine that we're replicating between Central‑US and East‑US. But before we dig too far into the health of that replicated item, I want to scroll down here on the left here, and underneath Monitoring, I want to select Site Recovery Jobs. Now from the bottom up, we can see in reverse chronological order all of the events that have occurred for this particular recovery services vault when we started configuring this vault together in this demonstration. So at the bottom there, we can see create a site, Create a replication policy, Map Networks, which is going to create the networks between our VNets so there we see map networks for appserver‑vnet. A little bit higher up, we see map networks for appserver.vnet‑asr, which is in that target region. Scrolling up a little bit further to the top, we could see Enable replication, that's where we started the process of enabling replication for that protected item, which was appserver1. If we skip to the very top of this list here, we can see Finalize protection successful for the protected item appserver1 and that's when it finalized the synchronization of that virtual machine disk between the source region and the target region. So the site recovery jobs log here is a fantastic place to go when you want to look at the events that have occurred inside of your recovery services vault. So on the left here, let's go ahead and scroll up a little bit higher, and now I'm going to go to Protected items, and underneath there, I'm going to select Replicated items, and from here we can see that replicated item appserver1, that's that windows virtual machine that we're working with in this demonstration. Now the replication health says healthy, and so that means we have a healthy virtual machine replicating between Central‑US and East‑US, the status is protected so we know that the replication is good to go there, and the active location is currently Central‑US and that there is no replication errors. I can click on that replicated item and get more detailed information and also some operations on the individual protected item. And so here at the top, I have a collection of operations that I could perform on this replicated items, such as failover, or test failover, cleanup test failover, and so on, and we'll go through several of these options throughout the remainder of this course. Now, further down, if I look at the health and status, that's the information that I really want to focus on in this module. We see replication health is healthy and our status is protected. Our RPO, or our recovery point objective, is 53 seconds. So if we did an unplanned failover right now, that would be the amount of data loss or the recovery point for this particular virtual machine. If I click on the latest recovery points over here, I can see the latest recovery points for this particular replicated item. Now in the output, we have latest crash‑consistent, which was just a few minutes ago and also latest app‑consistent. Now we're going to discuss the differences between crash‑consistent and application‑consistent in a later module, but know that application‑consistent is going to be that VSS aware snapshot that's really going to make sure that your applications are consistent inside of the snapshot. A crash‑consistent snapshot doesn't integrate with your applications to guarantee consistency, but most modern applications will recover appropriately with a crash‑consistent snapshot. But clearly an app‑consistent snapshot is better in the sense that it's going to guarantee the consistency of your application. So let's go ahead and close out here. And so now that we reviewed the current replication status of this protected item, which is our virtual machine that we're replicating between Central‑US and East‑US, I want to take some time to look at the resources involved in this replication. So in the search bar up here, I'm going to go ahead and type in appservers and that's going to give us the resource groups that are part of this particular Azure site recovery demonstration that we're doing together. I'm going to select appservers and appservers is the resource group that I created all of the resources in in the Central‑US or the source environment for this particular demonstration. Now inside of here, I'm going to select the individual virtual machine so there I'm going to click on appserver1. Now scrolling down on the left here, I'm going to select Extensions. In the inside of extensions, we can see that the extension SiteRecovery‑Windows is listed and it provisions successfully for this individual virtual machine. And so, that's part of that process when we enabled replication is that the Azure Site Recovery Service went ahead and deployed this extension onto this virtual machine for us and then registered that virtual machine in the site recovery service based on the configuration that we provided when we enabled replication. Now, this is on our source region. Let's go ahead and take a second to look at the target region. So again, I'm going to type in appservers up here, and when we created our site recovery configuration, that created some resources in the target region East‑US and there we see appservers‑asr as a resource group, and that was the resource group that was created by the wizard when we created those resources in that target region. And so when I click on that there, I have a couple things available to us here. So inside this resource group, I see appserver‑vnet‑asr, and so that's the virtual network that's going to exist in that target region for our virtual machine to be created on during failover. And also, there we see appserver OsDisk followed by a long unique identifier. This is the managed disk that's being replicated from our Central‑US region into this target East‑US region inside of this particular resource group. And so, during a failover, this is the disk that's going to be attached to the virtual machine in this target region. Now, to recap this demonstration because we covered a lot, we created a recovery services vault together. We then enabled protection on an Azure virtual machine with our site recovery services replicating our VM from the Central‑US region to the East‑US region. Once our replication was finished, we checked on the status of our replication, looking at site recovery jobs and all of the events that occurred during the enabling of that replication and confirming the completion of that initial seeding. We then checked on the health and status ensuring that our replication health was healthy and that our status was protected. We then dove into the recovery points that are available to us for our unplanned failovers. Now, if we did a planned failover, what Azure Site Recovery Services would do is synchronize the final bits of information between the source and target region and then would fail over to that virtual machines replicated disk with 0 data loss. We then looked at some resources in our source region. We looked at the virtual machine extensions that were installed by the site recovery service on our protected virtual machine. And then we also looked at the resources that were created in the target region, the virtual network and that replicated disk. So lots covered in this demonstration, but we now have a replicated Azure virtual machine replicated between two regions inside of Azure."
   ]
  },
  {
   "cell_type": "markdown",
   "metadata": {
    "vscode": {
     "languageId": "plaintext"
    }
   },
   "source": [
    "# Replicating VMware and Physical Servers"
   ]
  },
  {
   "cell_type": "markdown",
   "metadata": {},
   "source": [
    "![](https://storage.googleapis.com/agungwahyudi-public-files/design_site_recovery_azure-1-000010.png)"
   ]
  },
  {
   "cell_type": "markdown",
   "metadata": {},
   "source": [
    "We just reviewed how to replicate virtual machines between Azure regions. Let's now look at how we can use Site Recovery to replicate the VMware VMs and physical machines into Azure for either DR or migration purposes. Now the technology and architecture for VMware VMs and physical servers are very, very similar, so we're going to pair those techniques together now and throughout the remainder of the course. If you're looking on docs.microsoft.com for documentation, you'll see that they're discussed separately. Now in our on‑premises environment, let's say we have a collection of source machines, either VMware VMs or physical servers, that we want to replicate into Azure. Well, we need to deploy some Azure Site Recovery components on‑premises to facilitate and manage that replication. Now initially, these services are going to be deployed together on one management server in your environment, but can be broken out into separate servers if needed for scale. Now let's walk through each of these Azure Site Recovery services on‑premises components together. The configuration server is responsible for all on‑premises Site Recovery service's activities. It manages orchestration and data replication, as well as communicates configuration and state into Azure for the protected on‑premises resources. Now, as data is changed on the protected systems, that data is sent to the process server, which caches it, compresses it, and encrypts it before sending it into Azure Storage. And then the final component is the master target server. The master target server handles replication data during failback from Azure, so basically, giving the data a place to land on‑premises in failback scenarios. These services are available as a virtual machine template that you can download and deploy on‑premises in your VMware Infrastructure and is the Microsoft recommended technique for doing that. This template, by default, has all three components enabled on it. But also available are installation files that deploy manually, if needed, or onto a physical server. Azure on‑premises footprint grows either by adding more VMs or increasing the amount of data that you need to replicate. You may need to add more configuration or process servers, and we'll talk about how to size and scale these in the module, Designing and Implementing Site Recovery Infrastructure. Now on the servers that you have to replicate into Azure, you'll need to deploy some software. Similar to the Azure replication scenario that we just covered, you'll need the Site Recovery Mobility Service on each VMware VM or physical server that you want to replicate into Azure. The Mobility Service is used to capture writes for replication into Azure, and we'll talk about how that replication works in a second. Now on the Azure side of things, let's go through some of the target resources that you'll need to include in your Site Recovery architecture. You'll need a Recovery Services vault. This is going to be where you configure and manage your Azure Site Recovery environment. You'll need a VNet, which is the target virtual network used for connecting your VMs when they come online. You'll also need a storage account, which is used for caching or if you're using unmanaged disks in your virtual machines. And then finally, you'll need some managed disks, and these are going to be the disks that are replicated into for the systems that you want to protect on‑prem. So now that we know what the required infrastructure components are and the architecture is, let's talk about how data is replicated into Azure from our on‑premises resources. First, to protect on‑premises resources, you'll register your on‑premises ASR infrastructure in your Azure Site Recovery Services vault. You'll define a replication policy, which will define your recovery point objectives, and then you'll enable protection on these systems. Now we'll look at the implementation details of how to do this in the module, Designing and Implementing Site Recovery Infrastructure. Once replication is enabled, the protected servers on‑prem communicate to the configuration server over HTTPS for orchestration. They take an initial snapshot, and then that data is sent over to the process server over HTTPS as well, but on port 9443. That data is optimized and encrypted on the process server and then replicated over Azure public storage endpoints over the internet using HTTPS. Now you can also use ExpressRoute too, but I do want to call out that site‑to‑site VPN is not supported at this point in time. Once that initial replication finishes, the delta changes are continually replicated via the same path. That replicated data is received by a storage account in Azure for caching, and the change data is processed and applied to the Azure disks for the Azure VM replicas, and then recovery points are created. And so now that we know how data gets into Azure, let's talk about the failover and failback processes. When you run a failover for a single system or create a recovery plan to failover multiple systems together, VMs are created in Azure using those replicated disks. We'll dig into recovery plans in the module, Defining a Site Recovery Strategy. But for now, know that recovery plans enable you to failover protected systems together so that the applications stay consistent with each other. Now after triggering that initial failover, you'll commit to start accessing the workload from VMs inside of Azure, and so users will need to be redirected to those resources. If you're doing a migration, you could just leave these virtual machines online. But if this scenario was a DR scenario, you may want to failback, and so let's walk through that process now. Now at some point in time in the future, when your on‑premises site is available again, then you need to prepare to failback. In order to failback, you need to set up some additional failback infrastructure, including a temporary process server inside of Azure, which is used to replicate those Azure virtual machines back to your on‑prem environment. You'll need a VPN connection or an ExpressRoute from Azure back to your on‑premises network to send replication data over, and you'll need a master target server, which by default, was deployed as part of your configuration server on‑premises. If you're failing back systems that were initially physical servers, well, you can't. But all is not lost. You can failback to an on‑premises VMware environment as VMware virtual machines. If your original protected systems were VMware VMs, then you're just sinking back into that VMware environment. Now once you have the failback infrastructure in place, the process server connectivity via VPN or ExpressRoute, and a master target server and any additional VMware Infrastructure, then you can failback onto your on‑premises network. And then when you failback, failback occurs in three actions. You reprotect those Azure VMs so that they replicate from Azure back to the on‑premises VMware VMs. And so basically, you're reversing that replication process of what you had initially set up when you were replicating into Azure. Now once those VMs are back in sync on‑premises, then you run a failover to those on‑premises VMs. And then the final step of a failback process is after those workloads have failed back on‑prem, then you re‑enable replication for those on‑premises VMs back into Azure so that you're, again, protecting your on‑premises workload into Azure with Azure Site Recovery. Now one final topic. If you're in an environment that filters outbound traffic, I want you to check out this link here that gives you the detailed information for the URLs and ports that you'll need open, or whitelisted, for outbound replication into Azure Site Recovery."
   ]
  },
  {
   "cell_type": "markdown",
   "metadata": {
    "vscode": {
     "languageId": "plaintext"
    }
   },
   "source": [
    "# Replicating Hyper-V Virtual Machines"
   ]
  },
  {
   "cell_type": "markdown",
   "metadata": {},
   "source": [
    "![](https://storage.googleapis.com/agungwahyudi-public-files/design_site_recovery_azure-1-000011.png)"
   ]
  },
  {
   "cell_type": "markdown",
   "metadata": {},
   "source": [
    "Now for our next replication scenario, let's look at how to replicate Hyper‑V virtual machines from on premises into Azure. And there's two scenarios for Hyper‑V, one where we have System Center Virtual Machine Manager in place, and one where we don't. Let's look at the scenario without System Center Virtual Machine Manager first. On each Hyper‑V host, you'll need two components to integrate your on‑prem hosts with Azure Site Recovery. The first is Azure Site Recovery Services provider. This is used for orchestration and failover. It communicates with Azure Site Recovery via HTTPS. The second is Azure Site Recovery Services agent. This is used for data replication and also uses HTTPS for sending the replication data into Azure. And we'll talk about this replication process shortly. Now, on the individual Hyper‑V virtual machines that you want to protect with Azure Site Recovery, no additional software is needed, where in the previous scenarios, we needed the mobility servers installed on each protected system. Now inside of Azure we'll define a Recovery Services vault to manage our environment. We'll define a storage account for caching and storing replicated data. Well, also have a VNet for those virtual machines in Azure to be connected to. In your Azure Site Recovery Services vault, you'll register each Hyper‑V host into what's called a Hyper‑V site and configure and orchestrate things from there. We'll dig into the implementation details of this and do a demo in the module Designing and Implementing Site Recovery Infrastructure. Now, from a replication standpoint, it's going to look like this. A snapshot of each protected Hyper‑V virtual machine is going to be replicated into Azure Storage. Once that initial snapshot is uploaded, any additional changes are going to be uploaded as well, and then that local snapshot will be deleted. Then the finalized protection process starts, ensuring that the virtual machine's configuration settings are in sync between your on‑premises and Azure infrastructures. Then once that's complete, delta replication begins, sending the changed data in to Azure. Now let's talk about failover and failback. You could run a planned or unplanned failover for on‑premises Hyper‑V virtual machines into Azure. If you run a planned failover, then the source virtual machines are shut down to ensure that no data loss occurs, and that final change data is replicated into Azure. During an unplanned failover, the latest snapshot that's available in Azure is used as your recovery point. Once that failover is finished, you then commit the failover and start accessing the workload from the replica Azure virtual machine and begin pointing users at this resource. Now, just like before in the VMware and physical machine scenario, if you're doing a migration, you can just leave your virtual machines online inside of Azure. But if it's a DR scenario, you may want the failback onto on‑prem resources, once your on‑prem infrastructure is back up and running again.\n",
    "\n",
    "And do that failback occurs in three stages. First, you start failback by starting a planned failover from Azure to the on‑premises site. When you do this, you're going to be presented with an option about how you want to get your Azure virtual machine back onto your on‑prem infrastructure. The first option is minimize downtime. You'll use this option if you're on‑prem virtual machine is still available in your Hyper‑V infrastructure, and if there hasn't been too much change to that virtual machine's data. This process will checksum the data blocks and determine which change should only send that change data back down to on prem. This could reduce the amount of time it takes to bring your virtual machine back online if too much data hasn't changed. But that checksumming process could take some time if there has been a lot of change to your data. So we have another option, which is full download. The full download scenario is useful if there's been a lot of change to the virtual machine or that on‑prem virtual machine is no longer available, but you've rebuilt your on‑prem Hyper‑V infrastructure so that you have somewhere to land that virtual machine on prem. The full download will just send that whole virtual machine back to your on‑prem infrastructure. This could be a viable option to getting your virtual machines back on prem when compared to the minimized download scenario. Now, once you have your virtual machine synced back on prem, then you commit the failover to finish things up and start accessing that workload from the on‑premises virtual machine again. And the final step of your failback is, you want to enable replication back into Azure so that your on‑premises virtual machines are again protected by Azure Site Recovery."
   ]
  },
  {
   "cell_type": "markdown",
   "metadata": {},
   "source": [
    "![](https://storage.googleapis.com/agungwahyudi-public-files/design_site_recovery_azure-1-000012.png)"
   ]
  },
  {
   "cell_type": "markdown",
   "metadata": {},
   "source": [
    "Now, if you're using System Center Virtual Machine Manager to manage your Hyper‑V hosts, your replication architecture is going to have one key difference when compared with the previous Hyper‑V replication scenario. Rather than having the Azure Site Recovery provider on each host, you'll have it on the Virtual Machine Manager server. This will manage the orchestration of the environment with Azure Site Recovery. You will register the Virtual Machine Manager server with your Recovery Services vault, and that will expose all of those virtual machines into Azure for protection by the Azure Site Recovery service. The Azure Site Recovery agents will be installed on each Hyper‑V host, and these will manage the data movement into Azure. Now the replication and failover patterns here are going to be the same as the non‑System Center Virtual Machine Manager scenario that we just covered."
   ]
  },
  {
   "cell_type": "markdown",
   "metadata": {},
   "source": [
    "![](https://storage.googleapis.com/agungwahyudi-public-files/design_site_recovery_azure-1-000013.png)"
   ]
  },
  {
   "cell_type": "markdown",
   "metadata": {},
   "source": [
    "Now there's one final Site Recovery scenario that I want to cover today, and that's using Azure Site Recovery to replicate virtual machines between two on‑premises sites, and let's walk through that architecture. If we have a primary site and a secondary site with some Hyper‑V hosts that are managed by a System Center Virtual Machine Manager, we can use Azure Site Recovery to orchestra and manage replication between these two VMM locations. The Azure Site Recovery service provider is in charge of the orchestration and is installed on each of the System Center Virtual Machine Manager servers in this architecture. The Recovery Services agent is installed on each of the Hyper‑V hosts and is in charge of data replication. Now for these sites to replicate data between each other, you'll need LAN, WAN, or VPN connectivity between each, since this data isn't being replicated into Azure but between your on‑prem locations. Now the replication process is the same as the Hyper‑V scenario where snapshots are taken, synced, and then delta changes are sent to the secondary site managed by the Azure Site Recovery agent. Now the failover and failback process, this is going to be orchestrated by the Azure Site Recovery service, and so this pattern should start to feel familiar by now. you could failover a single virtual machine or create recovery plans to orchestrate the failover of multiple virtual machines together. You can run planned or unplanned failovers between these on‑premises sites. If you run a planned failover, then the source virtual machines are going to be shut down to ensure that no data loss occurs, and those final changes are synced. A planned failover will start syncing the virtual machines back to the primary location so that they're protected again. If an unplanned failover occurs, then you'll need to reprotect the virtual machines, which will resynchronize those VMs back to that original primary location. After your failover completes, you'll commit it and start pointing users and workload towards those new VMs that are up and running in your secondary, now primary, site. When your original primary location is available again and your VMs are back in a protected state, you can failback when desired."
   ]
  },
  {
   "cell_type": "markdown",
   "metadata": {},
   "source": [
    "# Leveraging Existing HA/DR Options"
   ]
  },
  {
   "cell_type": "markdown",
   "metadata": {},
   "source": [
    "![](https://storage.googleapis.com/agungwahyudi-public-files/design_site_recovery_azure-1-000014.png)"
   ]
  },
  {
   "cell_type": "markdown",
   "metadata": {},
   "source": [
    "Now let's introduce some scenarios where you might not want to use Azure Site Recovery. Huh? That's right, we're not using Azure Site Recovery. If your application already has the ability to do replication between sites, you might want to consider that when it comes to building your business continuity or your HA/DR plan. For example, Active Directory already has, built in, the ability to perform multi‑master application. And so let's say you have some domain controllers on‑prem and you want to have them replicate into Azure. Well, if you have network connectivity between the sites, for example VPN or ExpressRoute, then you can define a virtual network inside of Azure with a subnet and place some domain controllers on that network, and Active Directory will do what it needs to ensure that your AD data is replicated to this additional site. Another common existing HA/DR option is SQL Server Always On availability groups, and this is very valuable if you need a really low recovery point objective, because availability groups will get your replication that's independent of that snapshot interval that Azure Site Recovery provides using a log transport mechanism to ensure that your data is in that other site, giving you more granular control over your recovery point objective. And so, these two applications that we described here, Active Directory and SQL Server, are two types of applications that provide their own HA/DR options and built into their application architectures."
   ]
  },
  {
   "cell_type": "markdown",
   "metadata": {
    "vscode": {
     "languageId": "plaintext"
    }
   },
   "source": [
    "# Working with the ASR Deployment Planner"
   ]
  },
  {
   "cell_type": "markdown",
   "metadata": {},
   "source": [
    "![](https://storage.googleapis.com/agungwahyudi-public-files/design_site_recovery_azure-1-000015.png)"
   ]
  },
  {
   "cell_type": "markdown",
   "metadata": {},
   "source": [
    "Now, as we're going through and looking at all of these different elements, you're probably thinking to yourself, how much bandwidth is this going to chew up when I enable replication for all of these virtual machines, and what resources do I need on‑prem or in Azure? Well, fortunately, Microsoft knew you would have that question and they built the Azure Site Recovery Deployment Planner to help you out with that. One of the key things you want to keep in mind when you enable replication for a virtual machine is the initial synchronization can be pretty substantial so that you have to get all of the systems that you want protected, whether they're VMs or physical, and their data synced into Azure. How long it takes is going to depend on the size of the source systems and the amount of bandwidth that you have to upload this data into Azure.\n",
    "\n",
    "So this initial synchronization can take a long time. How long? Well, the ASR Deployment Planner can help you determine once that initial synchronization is done, then you've got continuous replication of change data, and really the bandwidth requirements in that scenario are going to be based on the data churn for your particular workloads. So if you have a highly volatile dataset on‑prem, you'll need to take that into account when you design your system, knowing the change data volume and rates and ensuring that you have enough network throughput to keep up the replication to ensure that you meet your recovery objectives. Now every scenario is going to be different, and so using the Azure Site Recovery Deployment Planner is going to be critical to help you figure out what it is that you're really going to need in terms of bandwidth and infrastructure either on‑prem or in Azure."
   ]
  },
  {
   "cell_type": "markdown",
   "metadata": {},
   "source": [
    "![](https://storage.googleapis.com/agungwahyudi-public-files/design_site_recovery_azure-1-000016.png)"
   ]
  },
  {
   "cell_type": "markdown",
   "metadata": {},
   "source": [
    "So the Azure Site Recovery Deployment Planner is a tool that you download from Microsoft and you run on your on‑premises infrastructure. You don't have to install any ASR components or install any agents on your server. This is just a polling service that connects to your host and gathers information. Once it's done, it's going to produce a report that looks like this. It's going to tell you the required network throughput you're going to need to replicate your data, and it's going to tell you how much storage infrastructure you'll need up in Azure and other critical information, like how many CPU cores on the virtual machines you're going to need to support your workloads inside of Azure. It will also let you know about the recommendations for your on‑premises infrastructures, so things like your configuration servers and process servers. The Azure Site Recovery Deployment Planner is going to give you a ton of information about your environment and what you need to configure inside of Azure, and it's going to be a critical tool in terms of helping you size your deployments appropriately."
   ]
  },
  {
   "cell_type": "markdown",
   "metadata": {},
   "source": [
    "![](https://storage.googleapis.com/agungwahyudi-public-files/design_site_recovery_azure-1-000017.png)"
   ]
  },
  {
   "cell_type": "markdown",
   "metadata": {},
   "source": [
    "![](https://storage.googleapis.com/agungwahyudi-public-files/design_site_recovery_azure-1-000018.png)"
   ]
  },
  {
   "cell_type": "markdown",
   "metadata": {},
   "source": [
    "The Azure Site Recovery Deployment Planner itself is quite in depth. So as you drill down, you'll get different views of your environment to help you capacity plan both your on‑prem and Azure infrastructure. And so here you can see another view of the required bandwidth to achieve a desired recovery point objective. But as you can see in the upper left here, in this case, the report also calls out when a data churn has exceeded the available throughput. And so here you can see that we've had 22 RPO violations that have occurred. That means that data is changing faster than it can be replicated out into Azure."
   ]
  },
  {
   "cell_type": "markdown",
   "metadata": {},
   "source": [
    "![](https://storage.googleapis.com/agungwahyudi-public-files/design_site_recovery_azure-1-000019.png)"
   ]
  },
  {
   "cell_type": "markdown",
   "metadata": {},
   "source": [
    "Now let's go a little bit deeper into what the ASR Deployment Planner does. First, it's going to check compatibility to make sure that the virtual machine or physical server configuration that you have on‑premises is going to be compatible with the Azure Site Recovery service, so calling out any unsupported operating systems or configurations. It's also going to tell you how much bandwidth is required for replication, and how that bandwidth is going to impact your desired recovery point objectives, as we highlighted in that previous example. The ASR Deployment Planner is also going to give you advice on what resources you're going to need with in your Azure infrastructure. So things like storage type and quantity, number of cores, and virtual machine sizes. It's also going to call out things like subscription limits and if you're going to run into those, and I don't want to underestimate the importance of limits in DR planning. If you reach a limit, then you might not be able to start your workload up in Azure during a disaster recovery failover, which means you won't hit your recovery objectives. The ASR Deployment Planner also provides data for on‑premises infrastructure. So for example, if you're replicating VMware, it'll tell you how many configuration and process servers you're actually going to need to deploy in your on‑premises environment. And so, like we discussed earlier, when you enable replication for a protected system and you're sending that data up into Azure, that initial synchronization is going to be the biggest hit. And so this tool is also going to give you recommendations on how you can break up or batch up your workloads for uploading into Azure. And then, finally, it's going to give you a high‑level estimate of what your Azure costs are going to be, once you spin up all this infrastructure and failover into your Azure environment. And so the Azure Site Recovery Deployment Planner is a critical tool, and you'll definitely want to make sure that you're using it as you plan out your site recovery infrastructure. And I do want to call out that there is a Deployment Planner version for both Hyper‑V and also VMware, but there is not one for physical servers."
   ]
  },
  {
   "cell_type": "markdown",
   "metadata": {
    "vscode": {
     "languageId": "plaintext"
    }
   },
   "source": [
    "# Module Review and What's Next!"
   ]
  },
  {
   "cell_type": "markdown",
   "metadata": {},
   "source": [
    "![](https://storage.googleapis.com/agungwahyudi-public-files/design_site_recovery_azure-1-000020.png)"
   ]
  },
  {
   "cell_type": "markdown",
   "metadata": {},
   "source": [
    "All right, so here we are at the end of the module, and we certainly covered a lot. We started off and introduced how site recovery works, looking at its core capabilities, such as continuous replication, snapshots, failover types, common use cases, and also the types of workload that we can protect. We looked very closely at the various replication models that are supported inside of Azure Site Recovery, including Azure VM and Hyper‑V VMs and also physical servers. We did a quick check and looked at how we can leverage existing HA/DR options for our core applications and discussed scenarios like Active Directory and SQL Server. Then we closed out the module with a close look at the Azure Site Recovery Deployment Planner and how we can use it to help ensure success when designing our site recovery strategy. That's a wrap for this module. Please join me in the next module, Designing and Implementing Site Recovery Infrastructure"
   ]
  }
 ],
 "metadata": {
  "language_info": {
   "name": "python"
  }
 },
 "nbformat": 4,
 "nbformat_minor": 2
}

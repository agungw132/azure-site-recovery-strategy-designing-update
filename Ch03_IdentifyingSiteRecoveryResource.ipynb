{
 "cells": [
  {
   "cell_type": "markdown",
   "metadata": {},
   "source": [
    "# Introduction, Course and Module Overview"
   ]
  },
  {
   "cell_type": "markdown",
   "metadata": {},
   "source": [
    "![](https://storage.googleapis.com/agungwahyudi-public-files/design_site_recovery_azure-3-000002.png)"
   ]
  },
  {
   "cell_type": "markdown",
   "metadata": {},
   "source": [
    "Hello. This is Anthony Nocentino with Centino Systems. Welcome to my course, Designing a Site Recovery Strategy on Microsoft Azure. This module is Identifying Site Recovery Resources. In this module, we will look more closely at the resources that you can protect with Azure Site Recovery. We'll look at supported regions and also how to identify which workloads can be supported in Azure Site Recovery. Cruising along, we just wrapped up Designing and Implementing Site Recovery Infrastructure and learned what we need to configure where. Now, let's shift our focus towards the types of workloads Azure Site Recovery protects in Identifying Site Recovery Resources."
   ]
  },
  {
   "cell_type": "markdown",
   "metadata": {},
   "source": [
    "![](https://storage.googleapis.com/agungwahyudi-public-files/design_site_recovery_azure-3-000003.png)"
   ]
  },
  {
   "cell_type": "markdown",
   "metadata": {},
   "source": [
    "In this module, we will begin discussing how to identify which regions support Azure Site Recovery. Then we'll dig into the replication requirements for the systems that we want to protect with Azure Site Recovery in those three key replication scenarios, Azure virtual machines, VMware virtual machines, and physical servers and also Hyper‑V virtual machines. Then we'll wrap up the module with a discussion on identifying supported workloads for Azure Site Recovery."
   ]
  },
  {
   "cell_type": "markdown",
   "metadata": {
    "vscode": {
     "languageId": "plaintext"
    }
   },
   "source": [
    "# Demo: Identifying Supported Regions"
   ]
  },
  {
   "cell_type": "markdown",
   "metadata": {},
   "source": [
    "![](https://storage.googleapis.com/agungwahyudi-public-files/design_site_recovery_azure-3-000004.png)"
   ]
  },
  {
   "cell_type": "markdown",
   "metadata": {},
   "source": [
    "For identifying regions that support Azure Site Recovery, the easiest thing to do is just to show you. So let's hop into a demo and use the Azure website to help us find out where Azure Site Recovery is supported in the Azure global infrastructure. And then we'll look at finding region support for replicating Azure virtual machines between regions, but within Azure geographic clusters. When it comes to finding out where Azure Site Recovery is supported inside the global Azure infrastructure, the best place to find that is the Products available by region page on microsoft.com. And so what we have the ability to do here is to go to this search bar and type in what service we want to find out is supported where. And let's go ahead and type something in like Azure Site Recovery. So if we type in site, we can see we have Site Recovery. Now if we pick that and scroll it out a little bit further to bring in the search results into view, from left to right here, we can see all of the regions in which Azure Site Recovery is supported by indicated by that blue check box there. So within Africa, we see South Africa North, South Africa West. Scrolling to the right, Australia Central, Australia Central 2. And so we can find out very quickly where Azure Site Recovery is supported. Now, region support isn't the only element you have to take into account when building and designing an Azure Site Recovery infrastructure. You also have to take into account geographic clusters. A geographic cluster is a collection of Azure regions designed with two key principles in mind, data latency and data sovereignty. Azure Site Recovery allows you to replicate and recover Azure VMs between any two regions within the same geographic cluster. And so let's use docs.microsoft.com to help us find which regions are members of which geographic clusters. And so here we are on the Azure Site Recovery documentation main landing page. And from here, if I go down and I click on Concepts and scroll down a little bit further and click on About Azure VM disaster recovery and then on to the Azure to Azure support matrix, now on the right, let's go ahead and click on Region support, and here we'll have a listing of the geographic clusters available to us. And so the first one there we see is America and all of the regions contained within the America geographic cluster. And we're able to build both source and target replication pairs inside of a specific geographic cluster. And so once our replication pair is built, that enables us to be able to replicate and recover virtual machines between any two of the regions within that geographic cluster."
   ]
  },
  {
   "cell_type": "markdown",
   "metadata": {
    "vscode": {
     "languageId": "plaintext"
    }
   },
   "source": [
    "# Replication Requirements for Azure Virtual Machines"
   ]
  },
  {
   "cell_type": "markdown",
   "metadata": {},
   "source": [
    "![](https://storage.googleapis.com/agungwahyudi-public-files/design_site_recovery_azure-3-000005.png)"
   ]
  },
  {
   "cell_type": "markdown",
   "metadata": {},
   "source": [
    "As we have learned in the previous modules, Azure Site Recovery is workload‑agnostic. And one of the ways it does that is by protecting the whole machine. To do that effectively, the machine configuration must be supported by Azure Site Recovery. And so now let's take a closer look at the replication requirements in terms of machine configuration and supported operating systems. And to start that conversation off, we'll look at our first replication scenario, Azure virtual machines. Inside the Azure docs, there's a huge document describing the supported machine configurations for replication. And so in here, you'll find things like which regions are supported, detailed information on which operating systems and OS configurations are supported, and much, much more. This is a valuable resource and my go‑to place for validating supported configuration information for replicating virtual machines. When replicating virtual machines inside of Azure, you need to take into account the replicated machines' compute configuration. And so in this case, we'll need to make sure that we have at least 2 cores and 1GB of RAM in the machine configuration. On the operating system side of the house, most Windows versions and editions and Linux distributions are supported. On the Windows side of things, you get Windows 7 up to Windows 10. And on the server side, you get Windows 2008 R2 SP1 all the way up to 2019. Now for Linux, that's a little bit of deeper of a topic. The major distributions are all supported. Red Hat Enterprise, CentOS, Debian, SUSE, and Ubuntu. But you'll have to dig a level deeper on the Linux side to ensure that your kernel version is supported, and that's all covered in the link below. When it comes to disk and file system configurations, on the Linux side of things, the XT3 and 4, XFS, and Btrfs are all supported when using the LVM volume manager. So if you're replicating Linux VMs, you really want to check out your storage and file system configuration and compare that with the support matrix described in the link below. The main reason for this is because each of the supported Linux distributions that we just mentioned all have different defaults, and oftentimes systems are going to be built with those default configurations. And so you want to ensure that your configuration is compatible with Azure Site Recovery. Next up is limits and data change rates. We touched on this in a previous module when we talked about capacity planning. And you'll want to make sure that you're not bumping up against any limits on the types of disks that you're using in terms of IOPS or throughput. So make sure that you pick the right disk for the system that you want to replicate. Again, for a deep dive into these requirements, I strongly encourage you to check out this link here. The key takeaway for this is Azure Site Recovery supports a wide array of configurations, and you want the check to ensure that the systems that you want to protect with Azure Site Recovery are supported because you might need to make some configuration changes on those source systems before you can protect them with Azure Site Recovery."
   ]
  },
  {
   "cell_type": "markdown",
   "metadata": {
    "vscode": {
     "languageId": "plaintext"
    }
   },
   "source": [
    "# Replication Requirements for VMware and Physical Servers"
   ]
  },
  {
   "cell_type": "markdown",
   "metadata": {},
   "source": [
    "![](https://storage.googleapis.com/agungwahyudi-public-files/design_site_recovery_azure-3-000006.png)"
   ]
  },
  {
   "cell_type": "markdown",
   "metadata": {},
   "source": [
    "So that was replication requirements for Azure virtual machines between regions. Now let's look at the replication requirements for VMware VMs and physical servers for protecting those on‑premises workloads with Azure site recovery. If you're using VMware, version matters, and so for both vCenter and vSphere Version 6.7. 6.5, 6.0, and 5.5 are supported. Now for replicated machine configurations, when we compare what we're going to look at now with the Azure VM scenario that we just covered, a lot of the same considerations are going to come into play when replicating into Azure because the machines that you're replicating into Azure will eventually become Azure virtual machines and all of the detail about replication requirements for VMware and physical machines is available in the Azure site recovery support matrix at this link here. And now, walking through some of those common areas on the operating system side of things, both Windows and Linux operating systems are supported. For Windows, it's versions 7 through 10, and on Windows Server 2008 R2 SP1 up to 2019, so it's the same there. On the Linux side of things, Redhat, CentOS, SuSE, Debian Ubuntu are all supported. And again, you'll want to closely look at the kernel versions that you're running to ensure that you're running on a support colonel on the disk and file system side of the house, again, same considerations in play. You want to ensure that using LVM for your value manager and the file systems ext3, ext4, xfs, and Btrfs are all supported. And lastly, but not least limits and data change rates. You want to validate that you're not bumping up against any subscription, resource group, or any data change rate limits going into Azure. And again, all of those details are available to you here into the support matrix URL. But the key takeaway for this is that you want to validate that your on‑premises workload is compatible with Azure site recovery for when your workload eventually becomes a virtual machine inside of Azure either during a failover or a migration."
   ]
  },
  {
   "cell_type": "markdown",
   "metadata": {
    "vscode": {
     "languageId": "plaintext"
    }
   },
   "source": [
    "# Replication Requirements for Hyper-V"
   ]
  },
  {
   "cell_type": "markdown",
   "metadata": {},
   "source": [
    "![](https://storage.googleapis.com/agungwahyudi-public-files/design_site_recovery_azure-3-000007.png)"
   ]
  },
  {
   "cell_type": "markdown",
   "metadata": {},
   "source": [
    "Now for a final replication requirement scenario Hyper‑V, and these requirements apply to both Hyper‑V and also Hyper‑V with System Center Virtual Machine Manager. The good news is the requirements for replicating Hyper‑V virtual machines into Azure are pretty straightforward. Now your on‑premises virtualization servers will need to be Windows 2012 R2, Windows 2016, or Windows 2019, and this applies to both Hyper‑V hosts and also Hyper‑V with System Center Virtual Machine Manager. When it comes to your replicated machine configuration, you'll want to ensure that your configuration is Azure compliant and also that the base OS is supported by Azure and for that detailed configuration information and also supported operatives to configuration, check out this link here to the Azure support matrix for Hyper‑V replication requirements. And lastly, you'll also want to insure and validate that you're not bumping up against any subscription, resource groups, or data change limits in the Hyper‑V or System Center Virtual Machine Manager scenarios. Now for each one of these points that we've discussed above, the detailed information that you want to dive into is available at the support matrix at this URL here."
   ]
  },
  {
   "cell_type": "markdown",
   "metadata": {
    "vscode": {
     "languageId": "plaintext"
    }
   },
   "source": [
    "# Identifying Supported Workloads"
   ]
  },
  {
   "cell_type": "markdown",
   "metadata": {},
   "source": [
    "![](https://storage.googleapis.com/agungwahyudi-public-files/design_site_recovery_azure-3-000008.png)"
   ]
  },
  {
   "cell_type": "markdown",
   "metadata": {},
   "source": [
    "So after all that, in terms of replication requirements, the core benefit that you get from having a supported OS and machine configuration is this. Azure Site Recovery is application‑agnostic, providing replication for any workloads running on those supported machine configurations. With that, you can even go so far as having application of our snapshots with VSS when defining your recovery points. Additionally, with Azure Site Recovery, you can define application‑consistent snapshots across multiple protected servers and take consistent snapshots of multi‑tier, multi‑server applications, grouping or sequencing these snapshots in a defined way. To really expand your recovery capabilities, recovery plans can be used to enable you to recover an entire application stack with a single click, perhaps calling external scripts or executing manual actions in that recovery plan to configure your applications or the infrastructure upon failover. We're going to dig into recovery plans more in the next module. Now Microsoft has tested and validated various workloads for support with Azure Site Recovery. So, for example, Active Directory, SQL Server, IIS, SharePoint, and Exchange have all been validated by Microsoft for support inside of Azure Site Recovery. If you want to get more details about the Microsoft‑validated workloads, go ahead and check out this link here."
   ]
  },
  {
   "cell_type": "markdown",
   "metadata": {
    "vscode": {
     "languageId": "plaintext"
    }
   },
   "source": [
    "# Module Review and What's Next!"
   ]
  },
  {
   "cell_type": "markdown",
   "metadata": {},
   "source": [
    "![](https://storage.googleapis.com/agungwahyudi-public-files/design_site_recovery_azure-3-000009.png)"
   ]
  },
  {
   "cell_type": "markdown",
   "metadata": {},
   "source": [
    "Okay, so a quick module here, but I want to highlight the importance of these topics when it comes to planning your Azure set recovery and identifying the supported resources and workloads. First up, we looked at where you need to go on the Azure website to determine which regions support Azure site recovery. And we also looked at for the Azure virtual machine replication scenario where you needed to look for that geographic cluster information. Next, we reviewed replication requirements looking at key considerations for each of the supported replication scenarios, Azure virtual machine, VMware virtual machine and physical server, and Hyper‑V pointing you to the support documentation for the deep dive configuration information for each of those replication scenarios. And finally, we looked at how we can identify supported workloads by ensuring that our virtual machine configurations are compatible, enabling us to define snapshots and recovery plans, and we also looked at some of those validated workloads from Microsoft. Alright, so here we are at the end of this module. Please join me in the next module, designing a site failover strategy. We're going to bring it all together and fail over our resources into Azure and back."
   ]
  }
 ],
 "metadata": {
  "language_info": {
   "name": "python"
  }
 },
 "nbformat": 4,
 "nbformat_minor": 2
}

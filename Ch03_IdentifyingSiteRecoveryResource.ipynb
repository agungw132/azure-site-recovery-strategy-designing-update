{
 "cells": [
  {
   "cell_type": "markdown",
   "metadata": {},
   "source": []
  },
{
"cell_type": "markdown",
"metadata": {},
"source": [
"![](https://storage.googleapis.com/agungwahyudi-public-files/design_site_recovery_azure-3-000002.png)"
]
},
  {
   "cell_type": "markdown",
   "metadata": {},
   "source": []
  },
{
"cell_type": "markdown",
"metadata": {},
"source": [
"![](https://storage.googleapis.com/agungwahyudi-public-files/design_site_recovery_azure-3-000003.png)"
]
},
  {
   "cell_type": "markdown",
   "metadata": {},
   "source": []
  },
{
"cell_type": "markdown",
"metadata": {},
"source": [
"![](https://storage.googleapis.com/agungwahyudi-public-files/design_site_recovery_azure-3-000004.png)"
]
},
  {
   "cell_type": "markdown",
   "metadata": {},
   "source": []
  },
{
"cell_type": "markdown",
"metadata": {},
"source": [
"![](https://storage.googleapis.com/agungwahyudi-public-files/design_site_recovery_azure-3-000005.png)"
]
},
  {
   "cell_type": "markdown",
   "metadata": {},
   "source": []
  },
{
"cell_type": "markdown",
"metadata": {},
"source": [
"![](https://storage.googleapis.com/agungwahyudi-public-files/design_site_recovery_azure-3-000006.png)"
]
},
  {
   "cell_type": "markdown",
   "metadata": {},
   "source": []
  },
{
"cell_type": "markdown",
"metadata": {},
"source": [
"![](https://storage.googleapis.com/agungwahyudi-public-files/design_site_recovery_azure-3-000007.png)"
]
},
  {
   "cell_type": "markdown",
   "metadata": {},
   "source": []
  },
{
"cell_type": "markdown",
"metadata": {},
"source": [
"![](https://storage.googleapis.com/agungwahyudi-public-files/design_site_recovery_azure-3-000008.png)"
]
},
  {
   "cell_type": "markdown",
   "metadata": {},
   "source": []
  },
{
"cell_type": "markdown",
"metadata": {},
"source": [
"![](https://storage.googleapis.com/agungwahyudi-public-files/design_site_recovery_azure-3-000009.png)"
]
},
  {
   "cell_type": "markdown",
   "metadata": {},
   "source": []
  },

  {
   "cell_type": "markdown",
   "metadata": {},
   "source": []
  }
 ],
 "metadata": {
  "language_info": {
   "name": "python"
  }
 },
 "nbformat": 4,
 "nbformat_minor": 2
}
